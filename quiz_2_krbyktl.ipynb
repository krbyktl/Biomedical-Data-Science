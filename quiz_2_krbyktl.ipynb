{
  "nbformat": 4,
  "nbformat_minor": 0,
  "metadata": {
    "colab": {
      "name": "quiz-2-krbyktl.ipynb",
      "version": "0.3.2",
      "provenance": []
    },
    "kernelspec": {
      "name": "python3",
      "display_name": "Python 3"
    }
  },
  "cells": [
    {
      "cell_type": "markdown",
      "metadata": {
        "id": "o__qML1Ov1ft",
        "colab_type": "text"
      },
      "source": [
        "#Quiz Question 1#\n",
        "To minimize:\n",
        "$$\n",
        "\\sum_{i=1}^n (Y_i - \\beta_1 X_{i1} - \\beta_2 X_i2 - ... - \\beta_p X_{ip})^2.\n",
        "$$\n",
        "We can break up the sum since each $X_{ik}$ is of the form $X_{ik} = I(i \\in G_k)$:\n",
        "$$\n",
        "\\sum_{i \\in G_1} (Y_i - \\beta_1 X_{i1})^2+\\sum_{i \\in G_2} (Y_i - \\beta_2 X_{i2})^2 + ... + \\sum_{i \\in G_p} (Y_i - \\beta_p X_{ip})^2\n",
        "$$\n",
        "We can assign all $X_i$ as 1:\n",
        "$$\n",
        "\\sum_{i \\in G_1} (Y_i - \\beta_1)^2+\\sum_{i \\in G_2} (Y_i - \\beta_2)^2 + ... + \\sum_{i \\in G_p} (Y_i - \\beta_p)^2\n",
        "$$\n",
        "We can represent the kth group as:\n",
        "$$\\sum_{i \\in G_k} (Y_i - \\beta_k)^2$$\n",
        "Then, differentiate with respect to $B_k$:\n",
        "$$\\sum_{i \\in G_k} (-2)(Y_i - \\beta_k) = 0$$\n",
        "$$\\sum_{i \\in G_k} (Y_i - \\beta_k) = 0$$\n",
        "$$(\\sum_{i \\in G_k}Y_i) - \\beta_k \\sum_{i \\in G_k}1= 0$$\n",
        "$$\\hat{\\beta_k} = \\frac{\\sum_{i \\in G_k}Y_i}{\\sum_{i \\in G_k}1}$$\n",
        "$$\\hat{\\beta_k} = \\frac{\\sum_{i \\in G_k}Y_i}{n_k}$$\n",
        "$$ \\hat{\\beta_k}= \\frac{\\sum_{i \\in G_k}Y_i}{n_k}=\\bar{Y}^{(k)}$$\n"
      ]
    },
    {
      "cell_type": "code",
      "metadata": {
        "id": "HeNSQiCNvu2o",
        "colab_type": "code",
        "colab": {
          "base_uri": "https://localhost:8080/",
          "height": 227
        },
        "outputId": "339307a6-6fca-4b71-d3ec-db74a958d269"
      },
      "source": [
        "#Quiz Question 2\n",
        "\n",
        "import pandas as pd\n",
        "import numpy as np\n",
        "from scipy import stats as st\n",
        "import seaborn as sns\n",
        "import matplotlib.pyplot as plt\n",
        "\n",
        "! if [ ! -e kirby21.csv ] ; \\\n",
        "  then wget https://raw.githubusercontent.com/bcaffo/ds4bme_intro/master/data/kirby21.csv; \\\n",
        "fi\n",
        "  \n",
        "df = pd.read_csv(\"/content/kirby21.csv\")\n",
        "df.head(5)\n"
      ],
      "execution_count": 7,
      "outputs": [
        {
          "output_type": "execute_result",
          "data": {
            "text/html": [
              "<div>\n",
              "<style scoped>\n",
              "    .dataframe tbody tr th:only-of-type {\n",
              "        vertical-align: middle;\n",
              "    }\n",
              "\n",
              "    .dataframe tbody tr th {\n",
              "        vertical-align: top;\n",
              "    }\n",
              "\n",
              "    .dataframe thead th {\n",
              "        text-align: right;\n",
              "    }\n",
              "</style>\n",
              "<table border=\"1\" class=\"dataframe\">\n",
              "  <thead>\n",
              "    <tr style=\"text-align: right;\">\n",
              "      <th></th>\n",
              "      <th>Unnamed: 0</th>\n",
              "      <th>rawid</th>\n",
              "      <th>roi</th>\n",
              "      <th>volume</th>\n",
              "      <th>min</th>\n",
              "      <th>max</th>\n",
              "      <th>mean</th>\n",
              "      <th>std</th>\n",
              "      <th>type</th>\n",
              "      <th>level</th>\n",
              "      <th>id</th>\n",
              "      <th>icv</th>\n",
              "      <th>tbv</th>\n",
              "    </tr>\n",
              "  </thead>\n",
              "  <tbody>\n",
              "    <tr>\n",
              "      <th>0</th>\n",
              "      <td>1</td>\n",
              "      <td>kirby127a_3_1_ax.img</td>\n",
              "      <td>Telencephalon_L</td>\n",
              "      <td>531111</td>\n",
              "      <td>0.0</td>\n",
              "      <td>374.0</td>\n",
              "      <td>128.3013</td>\n",
              "      <td>51.8593</td>\n",
              "      <td>1</td>\n",
              "      <td>1</td>\n",
              "      <td>127</td>\n",
              "      <td>1378295</td>\n",
              "      <td>1268519</td>\n",
              "    </tr>\n",
              "    <tr>\n",
              "      <th>1</th>\n",
              "      <td>2</td>\n",
              "      <td>kirby127a_3_1_ax.img</td>\n",
              "      <td>Telencephalon_R</td>\n",
              "      <td>543404</td>\n",
              "      <td>0.0</td>\n",
              "      <td>300.0</td>\n",
              "      <td>135.0683</td>\n",
              "      <td>53.6471</td>\n",
              "      <td>1</td>\n",
              "      <td>1</td>\n",
              "      <td>127</td>\n",
              "      <td>1378295</td>\n",
              "      <td>1268519</td>\n",
              "    </tr>\n",
              "    <tr>\n",
              "      <th>2</th>\n",
              "      <td>3</td>\n",
              "      <td>kirby127a_3_1_ax.img</td>\n",
              "      <td>Diencephalon_L</td>\n",
              "      <td>9683</td>\n",
              "      <td>15.0</td>\n",
              "      <td>295.0</td>\n",
              "      <td>193.5488</td>\n",
              "      <td>32.2733</td>\n",
              "      <td>1</td>\n",
              "      <td>1</td>\n",
              "      <td>127</td>\n",
              "      <td>1378295</td>\n",
              "      <td>1268519</td>\n",
              "    </tr>\n",
              "    <tr>\n",
              "      <th>3</th>\n",
              "      <td>4</td>\n",
              "      <td>kirby127a_3_1_ax.img</td>\n",
              "      <td>Diencephalon_R</td>\n",
              "      <td>9678</td>\n",
              "      <td>10.0</td>\n",
              "      <td>335.0</td>\n",
              "      <td>193.7051</td>\n",
              "      <td>32.7869</td>\n",
              "      <td>1</td>\n",
              "      <td>1</td>\n",
              "      <td>127</td>\n",
              "      <td>1378295</td>\n",
              "      <td>1268519</td>\n",
              "    </tr>\n",
              "    <tr>\n",
              "      <th>4</th>\n",
              "      <td>5</td>\n",
              "      <td>kirby127a_3_1_ax.img</td>\n",
              "      <td>Mesencephalon</td>\n",
              "      <td>10268</td>\n",
              "      <td>55.0</td>\n",
              "      <td>307.0</td>\n",
              "      <td>230.8583</td>\n",
              "      <td>29.2249</td>\n",
              "      <td>1</td>\n",
              "      <td>1</td>\n",
              "      <td>127</td>\n",
              "      <td>1378295</td>\n",
              "      <td>1268519</td>\n",
              "    </tr>\n",
              "  </tbody>\n",
              "</table>\n",
              "</div>"
            ],
            "text/plain": [
              "   Unnamed: 0                 rawid              roi  ...   id      icv      tbv\n",
              "0           1  kirby127a_3_1_ax.img  Telencephalon_L  ...  127  1378295  1268519\n",
              "1           2  kirby127a_3_1_ax.img  Telencephalon_R  ...  127  1378295  1268519\n",
              "2           3  kirby127a_3_1_ax.img   Diencephalon_L  ...  127  1378295  1268519\n",
              "3           4  kirby127a_3_1_ax.img   Diencephalon_R  ...  127  1378295  1268519\n",
              "4           5  kirby127a_3_1_ax.img    Mesencephalon  ...  127  1378295  1268519\n",
              "\n",
              "[5 rows x 13 columns]"
            ]
          },
          "metadata": {
            "tags": []
          },
          "execution_count": 7
        }
      ]
    },
    {
      "cell_type": "code",
      "metadata": {
        "id": "AOfyPriCxYOi",
        "colab_type": "code",
        "colab": {
          "base_uri": "https://localhost:8080/",
          "height": 331
        },
        "outputId": "526d4ccf-90f8-49cd-8928-6be41f670096"
      },
      "source": [
        "#Quiz Question 2 continued\n",
        "DL = df[df['roi'] == 'Diencephalon_L']\n",
        "DL = DL[DL['type'] == 1]\n",
        "DL = DL[DL['level'] == 1]\n",
        "DR = df[df['roi'] == 'Diencephalon_R']\n",
        "DR = DR[DR['type'] == 1]\n",
        "DR = DR[DR['level'] == 1]\n",
        "yval = DL['volume'].values\n",
        "xval = DR['volume'].values\n",
        "\n",
        "sns.scatterplot(xval,yval)\n",
        "plt.xlabel('Right Diencephalon Volume')\n",
        "plt.ylabel('Left Diencephalon Volume')\n",
        "\n",
        "def estimators(x,y):\n",
        "  beta1 = st.pearsonr(xval, yval)[0] * np.std(yval) / np.std(xval)\n",
        "  beta0 = np.mean(yval) - np.mean(xval) * beta1\n",
        "  return beta0, beta1\n",
        "\n",
        "beta0, beta1 = estimators(xval,yval)\n",
        "print('beta0 is %.2f'%(beta0))\n",
        "print('beta1 is %.2f'%(beta1))\n",
        "\n",
        "sns.lineplot(xval, beta0 + beta1 * xval)\n",
        "\n",
        "in_sample_error = 0\n",
        "for i in range(len(xval)):\n",
        "  in_sample_error = in_sample_error + (yval[i] - beta0 - beta1*xval[i])**2\n",
        "\n",
        "in_sample_error = np.sum(in_sample_error)\n",
        "\n",
        "print('in sample error rate is %.2f'%(in_sample_error))"
      ],
      "execution_count": 24,
      "outputs": [
        {
          "output_type": "stream",
          "text": [
            "beta0 is -694.18\n",
            "beta1 is 1.07\n",
            "in sample error rate is 832740.30\n"
          ],
          "name": "stdout"
        },
        {
          "output_type": "display_data",
          "data": {
            "image/png": "[encoded data removed]",
            "text/plain": [
              "<Figure size 432x288 with 1 Axes>"
            ]
          },
          "metadata": {
            "tags": []
          }
        }
      ]
    },
    {
      "cell_type": "markdown",
      "metadata": {
        "id": "9JfgEreIwSmX",
        "colab_type": "text"
      },
      "source": [
        "#Quiz Question 3#\n",
        "\n",
        "I'd be interested in predicting or classifying air pollution outcomes. Specifically, I will look at the short-term effects of ambient air pollution on daily mortality."
      ]
    }
  ]
}