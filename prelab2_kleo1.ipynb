{
  "nbformat": 4,
  "nbformat_minor": 0,
  "metadata": {
    "colab": {
      "name": "prelab2_kleo1.ipynb",
      "provenance": [],
      "toc_visible": true
    },
    "kernelspec": {
      "display_name": "Python 3",
      "language": "python",
      "name": "python3"
    },
    "language_info": {
      "codemirror_mode": {
        "name": "ipython",
        "version": 3
      },
      "file_extension": ".py",
      "mimetype": "text/x-python",
      "name": "python",
      "nbconvert_exporter": "python",
      "pygments_lexer": "ipython3",
      "version": "3.6.8"
    }
  },
  "cells": [
    {
      "cell_type": "markdown",
      "metadata": {
        "colab_type": "text",
        "id": "tTbiC0_eruI1"
      },
      "source": [
        "# Pre-lab description\n",
        "In this pre-lab we will learn how to implement gradient descent for finding local minima of a given cost function. This will provide us with a basic tool for many learning and classification problems since, at the end of the day, finding a classifier amounts to solving some optimization problem. In this lab we will also learn how gradient descent\n",
        "can be implemented using [PyTorch](https://pytorch.org/tutorials/), a scientific library for developing machine (deep) learning methods. Towards that goal, we will be learning a [linear classifier](https://en.wikipedia.org/wiki/Linear_classifier) on the [MNIST](https://en.wikipedia.org/wiki/MNIST_database) digit [dataset](http://yann.lecun.com/exdb/mnist/). As a loss function, we will be using a simple quadratic function. You will first apply your calculus skills to the problem, and analytically solve it. Then you will learn how to solve the same problem by implementing the gradient descent method and applying it to the cost function. Finally, you will learn the basics of PyTorch by using the built-in functions to train the classifier. This pre-lab assignment needs to be solved in this Notebook.\n",
        "\n",
        "## The data\n",
        "The MNIST database \\[[1](http://yann.lecun.com/exdb/mnist/)\\]\\[[2](https://en.wikipedia.org/wiki/MNIST_database)\\] consists of $28\\times 28$ grayscale images of handwritten digits, along with the correct label for each image. These are in the form of $28\\times 28$ matrices with the value of each index being an 8-bit integer ranging from 0 (black) to 255 (white), and one integer between 0 and 9, corresponding to the digit displayed in the image. The database is split into two separate training and testing sets.\n",
        "\n",
        "\n",
        "## Problem description\n",
        "We are given a set of $N$ feature-label pairs $\\big\\{\\big(\\boldsymbol x_i,c_i\\big)\\big\\}_{i=0}^{N-1}$ where each $\\boldsymbol x_i\\in\\mathbb{R}^p$ corresponds to a vectorized $28\\times28$ grayscale image of a digit, and $c_i=\\{0,1,\\ldots,9\\}$ is the digit's class. Since we are dealing with a multi-class classification problem we will encode each digit's class with a one-hot embedding vector as:\n",
        "$$\\boldsymbol y_i = [y_{i0},\\ldots, y_{in}],\\quad y_{ij} = \\begin{cases}1 &c_i = j\\\\0&\\textrm{else}\\end{cases}.$$\n",
        "The goal is then to find a prediction function $f:\\mathbb{R}^p\\mapsto\\{0,1\\}^n$ that maps features $\\boldsymbol x_i$ (images) to labels $\\boldsymbol y_i$. In order to do so, we will use a linear prediction function:\n",
        "\n",
        "$$f(\\boldsymbol x) = \\boldsymbol W \\boldsymbol x,\\quad \\boldsymbol W\\in\\mathbb{R}^{p\\times n},$$\n",
        "where the $j$th row of $\\boldsymbol W$ represents a predictor for the $j$th class. In order to decide upon the estimated class we take the strongest response of our set of predictors, that is:\n",
        "$$\\widehat{c}_i = \\arg\\max_{j}\\,\\boldsymbol W\\boldsymbol x_i.$$"
      ]
    },
    {
      "cell_type": "markdown",
      "metadata": {
        "id": "5OkX_REKno3A",
        "colab_type": "text"
      },
      "source": [
        "## Problem formulation (optimization problem)\n",
        "With all previous considerations in mind we can now define the optimization problem to estimate the parameters $\\boldsymbol W$ of our linear predictor. In order to do that, we need to define some loss function on our predictions that penalizes deviations from the true target. For this problem, we will be using a simple quadratic loss function $L\\big(f(\\boldsymbol x),\\boldsymbol y\\big) = \\lVert \\boldsymbol y - f(\\boldsymbol x)\\rVert_2^2$. The goal is then to find the parameters $\\boldsymbol W$ of our linear predictor function $f(\\cdot)$ that minimize the average loss over the set of samples:\n",
        "$$\\min_{\\boldsymbol W}\\; \\frac{1}{N}\\sum_{i=0}^{N-1}\\lVert \\boldsymbol y_i - \\boldsymbol W\\boldsymbol x_i\\rVert_2^2.$$\n",
        "Note that the above optimization problem can be expressed in a compact form as:\n",
        "$$\\min_{\\boldsymbol W}\\; \\frac{1}{N}\\lVert \\boldsymbol Y - \\boldsymbol W\\boldsymbol X\\rVert_F^2,$$\n",
        "where $\\lVert\\cdot\\rVert_F$ is the Frobenius ($\\ell_2$) norm of a matrix, and where the matrices $\\boldsymbol Y=[\\boldsymbol y_0,\\ldots,\\boldsymbol y_{N-1}]$ and $\\boldsymbol X = [\\boldsymbol x_0,\\ldots,\\boldsymbol x_{N-1}]$ consist of stacking the label and feature vector representations, respectively."
      ]
    },
    {
      "cell_type": "markdown",
      "metadata": {
        "id": "B_SvnvjWno3B",
        "colab_type": "text"
      },
      "source": [
        "**Exercise 1.** Given the feature and label matrices $\\boldsymbol X\\in\\mathbb{R}^{p\\times N}$ and $\\boldsymbol Y\\in\\mathbb{R}^{n\\times N}$, find a closed-form solution $\\boldsymbol W^\\star$ for the optimization problem:\n",
        "$$\\min_{\\boldsymbol W}\\; \\frac{1}{N}\\lVert \\boldsymbol Y - \\boldsymbol W\\boldsymbol X\\rVert_F^2.$$\n",
        "You can find the minimizer by setting the derivative of the cost function to zero."
      ]
    },
    {
      "cell_type": "markdown",
      "metadata": {
        "id": "2fs3HXoKno3D",
        "colab_type": "text"
      },
      "source": [
        "Add derivation here and put the expression of the optimal solution:\n",
        "\n",
        "#Exercise 1#\n",
        "\n",
        "We intend to minimize the average loss over the set of samples:\n",
        "$$\\min_{\\boldsymbol W}\\; \\frac{1}{N}\\lVert \\boldsymbol Y - \\boldsymbol W\\boldsymbol X\\rVert_F^2.$$\n",
        "Using the definition of the Frobenius Norm and minimzing the above cost function with a partial derivative with respect to $W$ and setting it to zero:\n",
        "$$\\frac{\\partial W}{\\partial t}\\frac{1}{N}Tr[(Y-WX)(Y-WX)^T] = 0$$\n",
        "$$\\frac{\\partial W}{\\partial t}\\frac{1}{N}Tr[(Y-WX)(Y^T-X^TW^T)] = 0$$\n",
        "$$\\frac{\\partial W}{\\partial t}\\frac{1}{N}Tr[YY^T-WXY^T-YX^TW^T+WXX^TW^T] = 0$$\n",
        "$$\\frac{\\partial W}{\\partial t}\\frac{1}{N}Tr[YY^T]-Tr[WXY^T]-Tr[YX^TW^T]+Tr[WXX^TW^T] = 0$$\n",
        "$$-\\frac{\\partial W}{\\partial t}Tr[WXY^T]-\\frac{\\partial W}{\\partial t}Tr[YX^TW^T]+\\frac{\\partial W}{\\partial t}Tr[WXX^TW^T] = 0$$\n",
        "$$-{(XY^T)}^T-YX^T+W^*({XX^T})^T+W^*(XX^T)=0$$\n",
        "$$-YX^T-YX^T+W^*(XX^T)+W^*(XX^T)=0$$\n",
        "$$-2YX^T+2W^*(XX^T)=0$$\n",
        "$$W^*(XX^T)=YX^T$$\n",
        "$$W^*=YX^T{(XX^T)}^{-1}$$\n",
        "\n",
        "Note: In the even that ${(XX^T)}^{-1}$ is not invertible (it is a singular matrix), we may have to use a psuedo inverse function to evaluate."
      ]
    },
    {
      "cell_type": "markdown",
      "metadata": {
        "colab_type": "text",
        "id": "o3tBC7c6QOi4"
      },
      "source": [
        "# Data loading and pre-processing\n",
        "\n",
        "First we need to download the data to Google Drive and pre-process it. The MNIST database is very well known and available to download in PyTorch using a [pre-defined function](https://pytorch.org/docs/stable/torchvision/datasets.html#mnist). Then, we scale and shift the images such that the value associated with each index lies between -1 and +1. Again, we can use pre-defined PyTorch [transform functions](https://pytorch.org/docs/stable/torchvision/transforms.html) to do so. This requires an extra step of casting the image to a `torch.Tensor` object. Tensors are multi-dimensional array objects that PyTorch uses as variables."
      ]
    },
    {
      "cell_type": "markdown",
      "metadata": {
        "colab_type": "text",
        "id": "0oL54kYHruI2"
      },
      "source": [
        "As usual, we start our Python code by importing the dependencies, and mounting Google Drive:"
      ]
    },
    {
      "cell_type": "code",
      "metadata": {
        "colab_type": "code",
        "id": "RXhX_Wh9ruI4",
        "outputId": "373341bf-e275-42f3-d0c9-8b00bb1d916a",
        "colab": {
          "base_uri": "https://localhost:8080/",
          "height": 122
        }
      },
      "source": [
        "# import modules here\n",
        "import torch\n",
        "import torchvision\n",
        "import torchvision.transforms as transforms\n",
        "import numpy as np\n",
        "import matplotlib.pyplot as plt\n",
        "\n",
        "# inline plots for matplotlib\n",
        "%matplotlib inline\n",
        "\n",
        "# mount GDrive\n",
        "from google.colab import drive\n",
        "drive.mount('gdrive/')"
      ],
      "execution_count": 4,
      "outputs": [
        {
          "output_type": "stream",
          "text": [
            "Go to this URL in a browser: https://accounts.google.com/o/oauth2/auth?client_id=947318989803-6bn6qk8qdgf4n4g3pfee6491hc0brc4i.apps.googleusercontent.com&redirect_uri=urn%3Aietf%3Awg%3Aoauth%3A2.0%3Aoob&scope=email%20https%3A%2F%2Fwww.googleapis.com%2Fauth%2Fdocs.test%20https%3A%2F%2Fwww.googleapis.com%2Fauth%2Fdrive%20https%3A%2F%2Fwww.googleapis.com%2Fauth%2Fdrive.photos.readonly%20https%3A%2F%2Fwww.googleapis.com%2Fauth%2Fpeopleapi.readonly&response_type=code\n",
            "\n",
            "Enter your authorization code:\n",
            "··········\n",
            "Mounted at gdrive/\n"
          ],
          "name": "stdout"
        }
      ]
    },
    {
      "cell_type": "markdown",
      "metadata": {
        "colab_type": "text",
        "id": "mW4jxoUSTS8N"
      },
      "source": [
        "Next, we use the `torchvision.datasets.MNIST` command to load the database. For this purpose, make a folder named `prelab-02` inside a `bmdslab` directory in your Google Drive. As the database is very large and contains more images than we require, we use the PyTorch [dataloader function](https://pytorch.org/docs/stable/data.html#torch.utils.data.DataLoader) to load a certain number of images, along with their labels, as local varables: "
      ]
    },
    {
      "cell_type": "code",
      "metadata": {
        "colab_type": "code",
        "id": "YZ4kUG9qmREf",
        "colab": {}
      },
      "source": [
        "# set the seed of PyTorch random number generator for reproducibility\n",
        "torch.manual_seed(0)\n",
        "\n",
        "# define transformation object to be applied to the data, list of transformations through Compose\n",
        "# first convert to tensor\n",
        "# then subtract 0.5 to every entry\n",
        "transform = transforms.Compose([transforms.ToTensor(),transforms.Normalize((0.5,), (0.5,))])\n",
        "\n",
        "# download the data if not already in the specified directory\n",
        "trainset = torchvision.datasets.MNIST('gdrive/My Drive/bmdslab/prelab-02/', train=True, transform=transform, download=True)\n",
        "testset  = torchvision.datasets.MNIST('gdrive/My Drive/bmdslab/prelab-02/', train=False, transform=transform, download=True)\n",
        "\n",
        "# specify the number of points to be extracted at every iteration\n",
        "trainloader = torch.utils.data.DataLoader(trainset, batch_size=10000,shuffle=False) # 10,000 images from the training set\n",
        "testloader = torch.utils.data.DataLoader(testset, batch_size=1000,shuffle=False)    #  1,000 images from the testing set\n",
        "\n",
        "# create an iterator to return the data from the data loader\n",
        "dataiter = iter(trainloader)\n",
        "# loading the training data into the images and labels variables\n",
        "images, labels = dataiter.next()\n",
        "\n",
        "# similarly for the test data\n",
        "test_dataiter = iter(testloader)\n",
        "test_images, test_labels = test_dataiter.next()"
      ],
      "execution_count": 0,
      "outputs": []
    },
    {
      "cell_type": "code",
      "metadata": {
        "colab_type": "code",
        "id": "yLAlH2ZJklzK",
        "outputId": "e33bfe93-83cb-4ca1-be4b-aa6cbd865a1a",
        "colab": {
          "base_uri": "https://localhost:8080/",
          "height": 51
        }
      },
      "source": [
        "# check the sizes to make sure you have done everything right:\n",
        "print(images.shape) # you should get [10000,1,28,28]\n",
        "print(labels.shape)"
      ],
      "execution_count": 6,
      "outputs": [
        {
          "output_type": "stream",
          "text": [
            "torch.Size([10000, 1, 28, 28])\n",
            "torch.Size([10000])\n"
          ],
          "name": "stdout"
        }
      ]
    },
    {
      "cell_type": "markdown",
      "metadata": {
        "id": "5NGfj7--no3R",
        "colab_type": "text"
      },
      "source": [
        "Now your data is in the `images` variable. Let's just display an example."
      ]
    },
    {
      "cell_type": "code",
      "metadata": {
        "colab_type": "code",
        "id": "xkWWjQavl-sr",
        "outputId": "7223f4c5-dace-40d8-aeab-7a0b59f0fd40",
        "colab": {
          "base_uri": "https://localhost:8080/",
          "height": 286
        }
      },
      "source": [
        "# choose an index\n",
        "num_image = 5\n",
        "\n",
        "# for displaying an image we need to convert the tensor to a numpy array\n",
        "# the squeeze() function removes all redundant dimensions of the array i.e., \n",
        "# images[num_array] is a 1x1x28x28 array\n",
        "plt.imshow(images[num_image].numpy().squeeze(), cmap='gray');\n",
        "\n",
        "# maybe investigate the values:\n",
        "print(images[1,0,22,10].squeeze())"
      ],
      "execution_count": 7,
      "outputs": [
        {
          "output_type": "stream",
          "text": [
            "tensor(0.9843)\n"
          ],
          "name": "stdout"
        },
        {
          "output_type": "display_data",
          "data": {
            "image/png": "[encoded data removed]",
            "text/plain": [
              "<Figure size 432x288 with 1 Axes>"
            ]
          },
          "metadata": {
            "tags": []
          }
        }
      ]
    },
    {
      "cell_type": "code",
      "metadata": {
        "id": "k8ij9pI7no3X",
        "colab_type": "code",
        "outputId": "a339c7b8-1471-4fdd-95c9-1620db725d38",
        "colab": {
          "base_uri": "https://localhost:8080/",
          "height": 102
        }
      },
      "source": [
        "print(images[1,0,0:5,0:5].squeeze())"
      ],
      "execution_count": 8,
      "outputs": [
        {
          "output_type": "stream",
          "text": [
            "tensor([[-1., -1., -1., -1., -1.],\n",
            "        [-1., -1., -1., -1., -1.],\n",
            "        [-1., -1., -1., -1., -1.],\n",
            "        [-1., -1., -1., -1., -1.],\n",
            "        [-1., -1., -1., -1., -1.]])\n"
          ],
          "name": "stdout"
        }
      ]
    },
    {
      "cell_type": "markdown",
      "metadata": {
        "colab_type": "text",
        "id": "qn8imXYvX42f"
      },
      "source": [
        "**Exercise 2.** Using the data provided for training and the expression for the optimal predictor's weights derived in the previous exercise compute the optimal predictor over the training data. Apply also your predictor to the testing set. Report classification accuracy over both training and testing sets."
      ]
    },
    {
      "cell_type": "markdown",
      "metadata": {
        "id": "7DEQ7ym1no3d",
        "colab_type": "text"
      },
      "source": [
        "For a set of ground-truth labels $c_i$ and their corresponding estimates $\\widehat{c}_i$, the __accuracy__ is defined as:\n",
        "\n",
        "$$Acc = \\frac{1}{N}\\sum_{i=0}^{N-1}\\mathbb{1}\\big(c_i == \\widehat{c}_i\\big),\\quad \\mathbb{1}\\big(z\\big) = \\begin{cases}1&z\\; \\textrm{is true}\\\\0 &\\textrm{else}\\end{cases}.$$"
      ]
    },
    {
      "cell_type": "code",
      "metadata": {
        "colab_type": "code",
        "id": "IceYhRVam_LO",
        "outputId": "11497fd3-41e0-4c99-b656-c2300866bd9d",
        "colab": {
          "base_uri": "https://localhost:8080/",
          "height": 51
        }
      },
      "source": [
        "#Exercise 2\n",
        "#reshape images to obtain your X and transposed X\n",
        "x_i1 = images.reshape((10000, 784)).numpy().T\n",
        "x_it = np.transpose(x_i1)\n",
        "\n",
        "#turn your labels into binary to obtain your Y\n",
        "y_int = np.asarray(labels)\n",
        "y_new = np.zeros((10,10000))\n",
        "\n",
        "for j in range(10000):\n",
        "  for k in range(10):\n",
        "    if y_int[j] == k:\n",
        "      y_new[k][j] = 1\n",
        "    else:\n",
        "      y_new[k][j] = 0\n",
        "\n",
        "#Calculate optimal predictor\n",
        "mult = np.matmul(x_i1, x_it)\n",
        "xinvt = np.linalg.pinv(mult)\n",
        "yandxt = np.matmul(y_new,x_it)\n",
        "W = np.matmul(yandxt, xinvt)\n",
        "\n",
        "#Apply predictor to the training set\n",
        "f_x = np.matmul(W,x_i1)\n",
        "f_xt = np.transpose(f_x)\n",
        "c_pred = np.zeros(10000)\n",
        "for m in range(10000):\n",
        "  c_pred[m]=np.argmax(f_xt[m])\n",
        "\n",
        "#Report classification accuracy for training set\n",
        "acc_matrix = np.zeros(10000)\n",
        "for n in range(10000):\n",
        "  if c_pred[n] == labels[n]:\n",
        "    acc_matrix[n] = 1\n",
        "  else:\n",
        "    acc_matrix[n] = 0\n",
        "    \n",
        "accuracy = np.mean(acc_matrix)\n",
        "print('The accuracy for the training set is %.4f'%(accuracy))\n",
        "\n",
        "\n",
        "#Report classification accuracy for testing set\n",
        "#test_images, test_labels\n",
        "x_test1 = test_images.reshape((1000, 784)).numpy().T\n",
        "\n",
        "f_x2 = np.matmul(W,x_test1)\n",
        "f_x2t = np.transpose(f_x2)\n",
        "c_pred2 = np.zeros(1000)\n",
        "for q in range(1000):\n",
        "  c_pred2[q]= np.argmax(f_x2t[q])\n",
        "\n",
        "acc_matrix1 = np.zeros(1000)\n",
        "for n in range(1000):\n",
        "  if c_pred2[n] == test_labels[n]:\n",
        "    acc_matrix1[n] = 1\n",
        "  else:\n",
        "    acc_matrix1[n] = 0\n",
        "\n",
        "accuracy1 = np.mean(acc_matrix1)\n",
        "print('The accuracy for the testing set is %.4f'%(accuracy1))"
      ],
      "execution_count": 10,
      "outputs": [
        {
          "output_type": "stream",
          "text": [
            "The accuracy for the training set is 0.8882\n",
            "The accuracy for the testing set is 0.8080\n"
          ],
          "name": "stdout"
        }
      ]
    },
    {
      "cell_type": "markdown",
      "metadata": {
        "colab_type": "text",
        "id": "Z2HEbvXhbVne"
      },
      "source": [
        "## Optimization via gradient descent\n",
        "The quadratic optimization problem considered in this pre-lab has a closed-form solution. In many practical cases however, a closed-form solution does not exist and the solution needs to be computed via an iterative method. Suppose we are given a smooth cost function $C(\\boldsymbol x)$ that we want to minimize over $\\boldsymbol x$. A very simple method to find a local minimizer of the function is to use a _gradient descent_ method. The main idea is to compute the gradient (derivative) of the cost function at a given point and move towards the direction opposite to the gradient of the function (recall that the gradient of a function gives you the direction of maximum variation of the signal). This process is repeated until convergence to a critical point of the cost function to be minimized. The general procedure for the gradient descent method at every iteration is given by the following update rule:\n",
        "$$\n",
        " \t\\boldsymbol x^{(k+1)} = \\boldsymbol x^{(k)} - \\mu \\nabla_{\\boldsymbol x} C\\big(\\boldsymbol x^{(k)}\\big),\n",
        "$$\n",
        "where $\\boldsymbol x^{(k)}$ denotes the estimate at $k$th iteration, $ \\nabla_{\\boldsymbol x} C\\big(\\cdot\\big)$ is the gradient of $C\\big(\\cdot\\big)$ with respect to $\\boldsymbol x$, and $\\mu$ is the step-size for the gradient descent updates."
      ]
    },
    {
      "cell_type": "markdown",
      "metadata": {
        "colab_type": "text",
        "id": "a52ffMcrYu1G"
      },
      "source": [
        "**Exercise 3.** _(Optional)_ Write down the equation for the gradient descent of the considered problem. Starting from an initial weight matrix of all zeros $\\boldsymbol W^{(0)}=\\boldsymbol 0$ implement a gradient descent optimization algorithm to find the optimal solution to our classification problem. Run the method for a sufficiently large number of iterations or until you meet some convergence criterion (_e.g.,_ relative change of the cost function smaller than some threshold). On two separate plots, display the evolution of the cost function over the iterations and the difference between your current estimate and the optimal estimate $\\lVert \\boldsymbol W^\\star - \\boldsymbol W^{(k)} \\rVert_F^2$. Since the considered cost function has a unique and global minimizer your iterates should converge to the optimal solution obtained from the analytical expression."
      ]
    },
    {
      "cell_type": "markdown",
      "metadata": {
        "colab_type": "text",
        "id": "hDnK4upde4F2"
      },
      "source": [
        "*Write the expression for the gradient update in this cell*\n",
        "\n",
        "$$\\boldsymbol W^{(k+1)} = \\boldsymbol W^{(k)} + \\mu \\frac{2}{N}[YX^T-\\boldsymbol W^{(k)}(XX^T)]$$"
      ]
    },
    {
      "cell_type": "code",
      "metadata": {
        "colab_type": "code",
        "id": "Qb4FNIthqdcw",
        "outputId": "4efda532-9afb-4c3d-a2be-f877f2330619",
        "colab": {
          "base_uri": "https://localhost:8080/",
          "height": 573
        }
      },
      "source": [
        "#initialize weights to zero\n",
        "W_1 = np.zeros([10,784])\n",
        "\n",
        "learning_rate = 1e-3\n",
        "cost_list = []\n",
        "diff_list = []\n",
        "cost = np.linalg.norm(y_new - np.matmul(W_1,x_i1))**2/10000\n",
        "W_deriv = (2*np.matmul(y_new,x_it)-2*np.matmul(W_1,mult))/10000\n",
        "\n",
        "\n",
        "iterate = np.arange(2000)\n",
        "for p in range(len(iterate)):\n",
        "  W_1 = W_1 + learning_rate*W_deriv\n",
        "  W_deriv = (2*np.matmul(y_new,x_it)-2*np.matmul(W_1,mult))/10000\n",
        "\n",
        "  cost_list.append(np.linalg.norm(y_new-np.matmul(W_1,x_i1))**2/10000)\n",
        "  diff_list.append(np.linalg.norm(W-W_1)**2)\n",
        "\n",
        "plt.figure()\n",
        "plt.plot(iterate, cost_list)\n",
        "plt.xlabel('Iterations')\n",
        "plt.ylabel('Cost Function')\n",
        "\n",
        "plt.figure()\n",
        "plt.plot(iterate, diff_list)\n",
        "plt.xlabel('Iterations')\n",
        "plt.ylabel('Estimate Difference')\n",
        "\n",
        "#Compute the accuracy of this W\n",
        "f_xw = np.matmul(W_1,x_i1)\n",
        "f_xwt = np.transpose(f_xw)\n",
        "\n",
        "c_predw = np.zeros(10000)\n",
        "for m in range(10000):\n",
        "  c_predw[m]=np.argmax(f_xwt[m])\n",
        "acc_matrix2 = np.zeros(10000)\n",
        "for n in range(10000):\n",
        "  if c_predw[n] == labels[n]:\n",
        "    acc_matrix2[n] = 1\n",
        "  else:\n",
        "    acc_matrix2[n] = 0\n",
        "    \n",
        "accuracy = np.mean(acc_matrix2)\n",
        "print('The accuracy for the optimized W from the training set is %.4f'%(accuracy))"
      ],
      "execution_count": 15,
      "outputs": [
        {
          "output_type": "stream",
          "text": [
            "The accuracy for the optimized W from the training set is 0.8692\n"
          ],
          "name": "stdout"
        },
        {
          "output_type": "display_data",
          "data": {
            "image/png": "[encoded data removed]",
            "text/plain": [
              "<Figure size 432x288 with 1 Axes>"
            ]
          },
          "metadata": {
            "tags": []
          }
        },
        {
          "output_type": "display_data",
          "data": {
            "image/png": "[encoded data removed]",
            "text/plain": [
              "<Figure size 432x288 with 1 Axes>"
            ]
          },
          "metadata": {
            "tags": []
          }
        }
      ]
    },
    {
      "cell_type": "markdown",
      "metadata": {
        "colab_type": "text",
        "id": "DD3QUdwLKImc"
      },
      "source": [
        "**Exercise 4.** Repeat the exercise before but now using PyTorch taking advantage of its automatic differentiation feature that will compute the gradients for you. Go to the [PyTorch tutorials](https://pytorch.org/tutorials/beginner/pytorch_with_examples.html) page in order to learn how to manipulate tensors with autograd. You can use random initialization for the weights $\\boldsymbol W^{(0)}$. Why initialization does not matter in this problem?"
      ]
    },
    {
      "cell_type": "code",
      "metadata": {
        "id": "b8rOZ7ZEno3t",
        "colab_type": "code",
        "outputId": "247f8bd0-a5a4-41a4-c793-70ac31e6d336",
        "colab": {
          "base_uri": "https://localhost:8080/",
          "height": 617
        }
      },
      "source": [
        "dtype = torch.float\n",
        "\n",
        "x = torch.from_numpy(x_i1).type(torch.FloatTensor)\n",
        "y = torch.from_numpy(y_new).type(torch.FloatTensor)\n",
        "\n",
        "#Random initilization for weights and estimated weights\n",
        "w1 = torch.randn(10, 784, dtype=dtype, requires_grad=True)\n",
        "w = torch.from_numpy(W).type(torch.FloatTensor)\n",
        "\n",
        "learning_rate = 1e-3\n",
        "iterate = np.arange(2000)\n",
        "cost_list = []\n",
        "diff_list = []\n",
        "\n",
        "for b in range(len(iterate)):\n",
        "  loss = torch.norm(y - torch.mm(w1, x)).pow(2)/10000\n",
        "  cost_list.append(loss)\n",
        "  diff = (w - w1).pow(2).sum()\n",
        "  diff_list.append(diff)\n",
        "  loss.backward()\n",
        "  with torch.no_grad():\n",
        "    w1 -= learning_rate*w1.grad\n",
        "    w1.grad.zero_()\n",
        "\n",
        "#Evolution of cost function over iterations\n",
        "plt.figure()\n",
        "plt.plot(iterate,cost_list)\n",
        "plt.xlabel('Iterations')\n",
        "plt.ylabel('Cost Function')\n",
        "\n",
        "#Difference between current estimate and the optimal estimate\n",
        "plt.figure()\n",
        "plt.plot(iterate,diff_list)\n",
        "plt.xlabel('Iterations')\n",
        "plt.ylabel('Estimate Difference')\n",
        "\n",
        "#Compute the accuracy of this W\n",
        "w1d = w1.detach()\n",
        "f_xw = np.matmul(w1d.numpy(),x_i1)\n",
        "f_xwt = np.transpose(f_xw)\n",
        "\n",
        "c_predw = np.zeros(10000)\n",
        "for m in range(10000):\n",
        "  c_predw[m]=np.argmax(f_xwt[m])\n",
        "acc_matrix2 = np.zeros(10000)\n",
        "for n in range(10000):\n",
        "  if c_predw[n] == labels[n]:\n",
        "    acc_matrix2[n] = 1\n",
        "  else:\n",
        "    acc_matrix2[n] = 0\n",
        "    \n",
        "accuracy = np.mean(acc_matrix2)\n",
        "print('The accuracy for the optimized W from the training set is %.4f'%(accuracy))\n",
        "print('Interestingly, this is very low - it is because we initialized with np.randn for our weights rather than zeros')\n",
        "print('If we initialize with zeros,')\n",
        "print('it becomes clear that this methodology results in the same as the above implemented in #3')"
      ],
      "execution_count": 16,
      "outputs": [
        {
          "output_type": "stream",
          "text": [
            "The accuracy for the optimized W from the training set is 0.1251\n",
            "Interestingly, this is very low - it is because we initialized with np.randn for our weights rather than zeros\n",
            "If we initialize with zeros,\n",
            "it becomes clear that this methodology results in the same as the above implemented in #3\n"
          ],
          "name": "stdout"
        },
        {
          "output_type": "display_data",
          "data": {
            "image/png": "[encoded data removed]",
            "text/plain": [
              "<Figure size 432x288 with 1 Axes>"
            ]
          },
          "metadata": {
            "tags": []
          }
        },
        {
          "output_type": "display_data",
          "data": {
            "image/png": "[encoded data removed]",
            "text/plain": [
              "<Figure size 432x288 with 1 Axes>"
            ]
          },
          "metadata": {
            "tags": []
          }
        }
      ]
    },
    {
      "cell_type": "markdown",
      "metadata": {
        "id": "rPJZnPq_XkbH",
        "colab_type": "text"
      },
      "source": [
        "Initialization does not matter in this problem because the loss function is quadratic. This means that there are no other minimums other than the absolute minimum. Therefore, you will eventually converge to a specific value."
      ]
    }
  ]
}