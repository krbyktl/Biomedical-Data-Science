{
  "nbformat": 4,
  "nbformat_minor": 0,
  "metadata": {
    "colab": {
      "name": "FinalProject.ipynb",
      "provenance": [],
      "collapsed_sections": []
    },
    "kernelspec": {
      "name": "python3",
      "display_name": "Python 3"
    }
  },
  "cells": [
    {
      "cell_type": "code",
      "metadata": {
        "id": "V8uFNR5STjMP",
        "colab_type": "code",
        "outputId": "5f2eddca-71c6-4cd5-a158-91a4cdec1938",
        "colab": {
          "base_uri": "https://localhost:8080/",
          "height": 359
        }
      },
      "source": [
        "#import modules and data\n",
        "import numpy as np\n",
        "import pandas as pd\n",
        "import seaborn as sns\n",
        "import matplotlib.pyplot as plt\n",
        "import sklearn as skl\n",
        "import statsmodels.formula.api as smf\n",
        "import statsmodels as sm\n",
        "#retrieved from https://www.kaggle.com/ronitf/heart-disease-uci/version/1\n",
        "\n",
        "\n",
        "\n",
        "! if [ ! -e heart.csv ]; \\\n",
        "then wget https://raw.githubusercontent.com/krbyktl/Biomedical-Data-Science/master/heart.csv; \\\n",
        "fi;\n",
        "\n",
        "heart = pd.read_csv(\"heart.csv\")\n",
        "heart.head(10)"
      ],
      "execution_count": 29,
      "outputs": [
        {
          "output_type": "execute_result",
          "data": {
            "text/html": [
              "<div>\n",
              "<style scoped>\n",
              "    .dataframe tbody tr th:only-of-type {\n",
              "        vertical-align: middle;\n",
              "    }\n",
              "\n",
              "    .dataframe tbody tr th {\n",
              "        vertical-align: top;\n",
              "    }\n",
              "\n",
              "    .dataframe thead th {\n",
              "        text-align: right;\n",
              "    }\n",
              "</style>\n",
              "<table border=\"1\" class=\"dataframe\">\n",
              "  <thead>\n",
              "    <tr style=\"text-align: right;\">\n",
              "      <th></th>\n",
              "      <th>age</th>\n",
              "      <th>sex</th>\n",
              "      <th>cp</th>\n",
              "      <th>trestbps</th>\n",
              "      <th>chol</th>\n",
              "      <th>fbs</th>\n",
              "      <th>restecg</th>\n",
              "      <th>thalach</th>\n",
              "      <th>exang</th>\n",
              "      <th>oldpeak</th>\n",
              "      <th>slope</th>\n",
              "      <th>ca</th>\n",
              "      <th>thal</th>\n",
              "      <th>target</th>\n",
              "    </tr>\n",
              "  </thead>\n",
              "  <tbody>\n",
              "    <tr>\n",
              "      <th>0</th>\n",
              "      <td>63</td>\n",
              "      <td>1</td>\n",
              "      <td>3</td>\n",
              "      <td>145</td>\n",
              "      <td>233</td>\n",
              "      <td>1</td>\n",
              "      <td>0</td>\n",
              "      <td>150</td>\n",
              "      <td>0</td>\n",
              "      <td>2.3</td>\n",
              "      <td>0</td>\n",
              "      <td>0</td>\n",
              "      <td>1</td>\n",
              "      <td>1</td>\n",
              "    </tr>\n",
              "    <tr>\n",
              "      <th>1</th>\n",
              "      <td>37</td>\n",
              "      <td>1</td>\n",
              "      <td>2</td>\n",
              "      <td>130</td>\n",
              "      <td>250</td>\n",
              "      <td>0</td>\n",
              "      <td>1</td>\n",
              "      <td>187</td>\n",
              "      <td>0</td>\n",
              "      <td>3.5</td>\n",
              "      <td>0</td>\n",
              "      <td>0</td>\n",
              "      <td>2</td>\n",
              "      <td>1</td>\n",
              "    </tr>\n",
              "    <tr>\n",
              "      <th>2</th>\n",
              "      <td>41</td>\n",
              "      <td>0</td>\n",
              "      <td>1</td>\n",
              "      <td>130</td>\n",
              "      <td>204</td>\n",
              "      <td>0</td>\n",
              "      <td>0</td>\n",
              "      <td>172</td>\n",
              "      <td>0</td>\n",
              "      <td>1.4</td>\n",
              "      <td>2</td>\n",
              "      <td>0</td>\n",
              "      <td>2</td>\n",
              "      <td>1</td>\n",
              "    </tr>\n",
              "    <tr>\n",
              "      <th>3</th>\n",
              "      <td>56</td>\n",
              "      <td>1</td>\n",
              "      <td>1</td>\n",
              "      <td>120</td>\n",
              "      <td>236</td>\n",
              "      <td>0</td>\n",
              "      <td>1</td>\n",
              "      <td>178</td>\n",
              "      <td>0</td>\n",
              "      <td>0.8</td>\n",
              "      <td>2</td>\n",
              "      <td>0</td>\n",
              "      <td>2</td>\n",
              "      <td>1</td>\n",
              "    </tr>\n",
              "    <tr>\n",
              "      <th>4</th>\n",
              "      <td>57</td>\n",
              "      <td>0</td>\n",
              "      <td>0</td>\n",
              "      <td>120</td>\n",
              "      <td>354</td>\n",
              "      <td>0</td>\n",
              "      <td>1</td>\n",
              "      <td>163</td>\n",
              "      <td>1</td>\n",
              "      <td>0.6</td>\n",
              "      <td>2</td>\n",
              "      <td>0</td>\n",
              "      <td>2</td>\n",
              "      <td>1</td>\n",
              "    </tr>\n",
              "    <tr>\n",
              "      <th>5</th>\n",
              "      <td>57</td>\n",
              "      <td>1</td>\n",
              "      <td>0</td>\n",
              "      <td>140</td>\n",
              "      <td>192</td>\n",
              "      <td>0</td>\n",
              "      <td>1</td>\n",
              "      <td>148</td>\n",
              "      <td>0</td>\n",
              "      <td>0.4</td>\n",
              "      <td>1</td>\n",
              "      <td>0</td>\n",
              "      <td>1</td>\n",
              "      <td>1</td>\n",
              "    </tr>\n",
              "    <tr>\n",
              "      <th>6</th>\n",
              "      <td>56</td>\n",
              "      <td>0</td>\n",
              "      <td>1</td>\n",
              "      <td>140</td>\n",
              "      <td>294</td>\n",
              "      <td>0</td>\n",
              "      <td>0</td>\n",
              "      <td>153</td>\n",
              "      <td>0</td>\n",
              "      <td>1.3</td>\n",
              "      <td>1</td>\n",
              "      <td>0</td>\n",
              "      <td>2</td>\n",
              "      <td>1</td>\n",
              "    </tr>\n",
              "    <tr>\n",
              "      <th>7</th>\n",
              "      <td>44</td>\n",
              "      <td>1</td>\n",
              "      <td>1</td>\n",
              "      <td>120</td>\n",
              "      <td>263</td>\n",
              "      <td>0</td>\n",
              "      <td>1</td>\n",
              "      <td>173</td>\n",
              "      <td>0</td>\n",
              "      <td>0.0</td>\n",
              "      <td>2</td>\n",
              "      <td>0</td>\n",
              "      <td>3</td>\n",
              "      <td>1</td>\n",
              "    </tr>\n",
              "    <tr>\n",
              "      <th>8</th>\n",
              "      <td>52</td>\n",
              "      <td>1</td>\n",
              "      <td>2</td>\n",
              "      <td>172</td>\n",
              "      <td>199</td>\n",
              "      <td>1</td>\n",
              "      <td>1</td>\n",
              "      <td>162</td>\n",
              "      <td>0</td>\n",
              "      <td>0.5</td>\n",
              "      <td>2</td>\n",
              "      <td>0</td>\n",
              "      <td>3</td>\n",
              "      <td>1</td>\n",
              "    </tr>\n",
              "    <tr>\n",
              "      <th>9</th>\n",
              "      <td>57</td>\n",
              "      <td>1</td>\n",
              "      <td>2</td>\n",
              "      <td>150</td>\n",
              "      <td>168</td>\n",
              "      <td>0</td>\n",
              "      <td>1</td>\n",
              "      <td>174</td>\n",
              "      <td>0</td>\n",
              "      <td>1.6</td>\n",
              "      <td>2</td>\n",
              "      <td>0</td>\n",
              "      <td>2</td>\n",
              "      <td>1</td>\n",
              "    </tr>\n",
              "  </tbody>\n",
              "</table>\n",
              "</div>"
            ],
            "text/plain": [
              "   age  sex  cp  trestbps  chol  fbs  ...  exang  oldpeak  slope  ca  thal  target\n",
              "0   63    1   3       145   233    1  ...      0      2.3      0   0     1       1\n",
              "1   37    1   2       130   250    0  ...      0      3.5      0   0     2       1\n",
              "2   41    0   1       130   204    0  ...      0      1.4      2   0     2       1\n",
              "3   56    1   1       120   236    0  ...      0      0.8      2   0     2       1\n",
              "4   57    0   0       120   354    0  ...      1      0.6      2   0     2       1\n",
              "5   57    1   0       140   192    0  ...      0      0.4      1   0     1       1\n",
              "6   56    0   1       140   294    0  ...      0      1.3      1   0     2       1\n",
              "7   44    1   1       120   263    0  ...      0      0.0      2   0     3       1\n",
              "8   52    1   2       172   199    1  ...      0      0.5      2   0     3       1\n",
              "9   57    1   2       150   168    0  ...      0      1.6      2   0     2       1\n",
              "\n",
              "[10 rows x 14 columns]"
            ]
          },
          "metadata": {
            "tags": []
          },
          "execution_count": 29
        }
      ]
    },
    {
      "cell_type": "code",
      "metadata": {
        "id": "KYGsiMfE5VlW",
        "colab_type": "code",
        "colab": {
          "base_uri": "https://localhost:8080/",
          "height": 34
        },
        "outputId": "234c0054-dac6-49ac-a8de-ab389c5b33fb"
      },
      "source": [
        "#process data\n",
        "heart = heart.drop(['age','sex','cp','trestbps','chol','fbs','exang','ca'], axis = 1)\n",
        "heart.keys()"
      ],
      "execution_count": 30,
      "outputs": [
        {
          "output_type": "execute_result",
          "data": {
            "text/plain": [
              "Index(['restecg', 'thalach', 'oldpeak', 'slope', 'thal', 'target'], dtype='object')"
            ]
          },
          "metadata": {
            "tags": []
          },
          "execution_count": 30
        }
      ]
    },
    {
      "cell_type": "code",
      "metadata": {
        "id": "WXmFP0_yICTZ",
        "colab_type": "code",
        "colab": {
          "base_uri": "https://localhost:8080/",
          "height": 1000
        },
        "outputId": "0d258307-a7e2-4526-b19f-6010e8fdaf1e"
      },
      "source": [
        "#visualize relationship of independent variables to heart disease\n",
        "plt.figure()\n",
        "sns.scatterplot(x = 'restecg',y = 'target', data = heart)\n",
        "plt.figure()\n",
        "sns.scatterplot(x = 'thalach',y = 'target', data = heart)\n",
        "plt.figure()\n",
        "sns.scatterplot(x = 'oldpeak',y = 'target', data = heart)\n",
        "plt.figure()\n",
        "sns.scatterplot(x = 'slope',y = 'target', data = heart)\n",
        "plt.figure()\n",
        "sns.scatterplot(x = 'thal',y = 'target', data = heart)"
      ],
      "execution_count": 31,
      "outputs": [
        {
          "output_type": "execute_result",
          "data": {
            "text/plain": [
              "<matplotlib.axes._subplots.AxesSubplot at 0x7f0b9c7aad30>"
            ]
          },
          "metadata": {
            "tags": []
          },
          "execution_count": 31
        },
        {
          "output_type": "display_data",
          "data": {
            "image/png": "[encoded data removed]",
            "text/plain": [
              "<Figure size 432x288 with 1 Axes>"
            ]
          },
          "metadata": {
            "tags": []
          }
        },
        {
          "output_type": "display_data",
          "data": {
            "image/png": "[encoded data removed]",
            "text/plain": [
              "<Figure size 432x288 with 1 Axes>"
            ]
          },
          "metadata": {
            "tags": []
          }
        },
        {
          "output_type": "display_data",
          "data": {
            "image/png": "[encoded data removed]",
            "text/plain": [
              "<Figure size 432x288 with 1 Axes>"
            ]
          },
          "metadata": {
            "tags": []
          }
        },
        {
          "output_type": "display_data",
          "data": {
            "image/png": "[encoded data removed]",
            "text/plain": [
              "<Figure size 432x288 with 1 Axes>"
            ]
          },
          "metadata": {
            "tags": []
          }
        },
        {
          "output_type": "display_data",
          "data": {
            "image/png": "[encoded data removed]",
            "text/plain": [
              "<Figure size 432x288 with 1 Axes>"
            ]
          },
          "metadata": {
            "tags": []
          }
        }
      ]
    },
    {
      "cell_type": "code",
      "metadata": {
        "id": "NoscWvMZgdUE",
        "colab_type": "code",
        "outputId": "9e83d6a3-a3aa-434a-ff5b-fa4d0893b5ab",
        "colab": {
          "base_uri": "https://localhost:8080/",
          "height": 562
        }
      },
      "source": [
        "#split data into testing and training fractions\n",
        "trainFraction = .80\n",
        "sample = np.random.uniform(size = len(heart)) < trainFraction\n",
        "trainingDat = heart[sample]\n",
        "testingDat = heart[~sample]\n",
        "\n",
        "#preliminary view of data in terms of a linear multiple regression\n",
        "results = smf.ols('target ~ restecg + thalach + oldpeak + slope + thal', data = heart).fit()\n",
        "results.summary()"
      ],
      "execution_count": 32,
      "outputs": [
        {
          "output_type": "execute_result",
          "data": {
            "text/html": [
              "<table class=\"simpletable\">\n",
              "<caption>OLS Regression Results</caption>\n",
              "<tr>\n",
              "  <th>Dep. Variable:</th>         <td>target</td>      <th>  R-squared:         </th> <td>   0.347</td>\n",
              "</tr>\n",
              "<tr>\n",
              "  <th>Model:</th>                   <td>OLS</td>       <th>  Adj. R-squared:    </th> <td>   0.336</td>\n",
              "</tr>\n",
              "<tr>\n",
              "  <th>Method:</th>             <td>Least Squares</td>  <th>  F-statistic:       </th> <td>   31.59</td>\n",
              "</tr>\n",
              "<tr>\n",
              "  <th>Date:</th>             <td>Sun, 06 Oct 2019</td> <th>  Prob (F-statistic):</th> <td>9.09e-26</td>\n",
              "</tr>\n",
              "<tr>\n",
              "  <th>Time:</th>                 <td>17:58:33</td>     <th>  Log-Likelihood:    </th> <td> -154.11</td>\n",
              "</tr>\n",
              "<tr>\n",
              "  <th>No. Observations:</th>      <td>   303</td>      <th>  AIC:               </th> <td>   320.2</td>\n",
              "</tr>\n",
              "<tr>\n",
              "  <th>Df Residuals:</th>          <td>   297</td>      <th>  BIC:               </th> <td>   342.5</td>\n",
              "</tr>\n",
              "<tr>\n",
              "  <th>Df Model:</th>              <td>     5</td>      <th>                     </th>     <td> </td>   \n",
              "</tr>\n",
              "<tr>\n",
              "  <th>Covariance Type:</th>      <td>nonrobust</td>    <th>                     </th>     <td> </td>   \n",
              "</tr>\n",
              "</table>\n",
              "<table class=\"simpletable\">\n",
              "<tr>\n",
              "      <td></td>         <th>coef</th>     <th>std err</th>      <th>t</th>      <th>P>|t|</th>  <th>[0.025</th>    <th>0.975]</th>  \n",
              "</tr>\n",
              "<tr>\n",
              "  <th>Intercept</th> <td>    0.0808</td> <td>    0.200</td> <td>    0.405</td> <td> 0.686</td> <td>   -0.312</td> <td>    0.474</td>\n",
              "</tr>\n",
              "<tr>\n",
              "  <th>restecg</th>   <td>    0.0966</td> <td>    0.045</td> <td>    2.162</td> <td> 0.031</td> <td>    0.009</td> <td>    0.185</td>\n",
              "</tr>\n",
              "<tr>\n",
              "  <th>thalach</th>   <td>    0.0063</td> <td>    0.001</td> <td>    5.572</td> <td> 0.000</td> <td>    0.004</td> <td>    0.008</td>\n",
              "</tr>\n",
              "<tr>\n",
              "  <th>oldpeak</th>   <td>   -0.1012</td> <td>    0.025</td> <td>   -3.983</td> <td> 0.000</td> <td>   -0.151</td> <td>   -0.051</td>\n",
              "</tr>\n",
              "<tr>\n",
              "  <th>slope</th>     <td>    0.0503</td> <td>    0.048</td> <td>    1.047</td> <td> 0.296</td> <td>   -0.044</td> <td>    0.145</td>\n",
              "</tr>\n",
              "<tr>\n",
              "  <th>thal</th>      <td>   -0.2111</td> <td>    0.039</td> <td>   -5.399</td> <td> 0.000</td> <td>   -0.288</td> <td>   -0.134</td>\n",
              "</tr>\n",
              "</table>\n",
              "<table class=\"simpletable\">\n",
              "<tr>\n",
              "  <th>Omnibus:</th>       <td>12.490</td> <th>  Durbin-Watson:     </th> <td>   0.687</td>\n",
              "</tr>\n",
              "<tr>\n",
              "  <th>Prob(Omnibus):</th> <td> 0.002</td> <th>  Jarque-Bera (JB):  </th> <td>   9.454</td>\n",
              "</tr>\n",
              "<tr>\n",
              "  <th>Skew:</th>          <td>-0.328</td> <th>  Prob(JB):          </th> <td> 0.00885</td>\n",
              "</tr>\n",
              "<tr>\n",
              "  <th>Kurtosis:</th>      <td> 2.436</td> <th>  Cond. No.          </th> <td>1.30e+03</td>\n",
              "</tr>\n",
              "</table><br/><br/>Warnings:<br/>[1] Standard Errors assume that the covariance matrix of the errors is correctly specified.<br/>[2] The condition number is large, 1.3e+03. This might indicate that there are<br/>strong multicollinearity or other numerical problems."
            ],
            "text/plain": [
              "<class 'statsmodels.iolib.summary.Summary'>\n",
              "\"\"\"\n",
              "                            OLS Regression Results                            \n",
              "==============================================================================\n",
              "Dep. Variable:                 target   R-squared:                       0.347\n",
              "Model:                            OLS   Adj. R-squared:                  0.336\n",
              "Method:                 Least Squares   F-statistic:                     31.59\n",
              "Date:                Sun, 06 Oct 2019   Prob (F-statistic):           9.09e-26\n",
              "Time:                        17:58:33   Log-Likelihood:                -154.11\n",
              "No. Observations:                 303   AIC:                             320.2\n",
              "Df Residuals:                     297   BIC:                             342.5\n",
              "Df Model:                           5                                         \n",
              "Covariance Type:            nonrobust                                         \n",
              "==============================================================================\n",
              "                 coef    std err          t      P>|t|      [0.025      0.975]\n",
              "------------------------------------------------------------------------------\n",
              "Intercept      0.0808      0.200      0.405      0.686      -0.312       0.474\n",
              "restecg        0.0966      0.045      2.162      0.031       0.009       0.185\n",
              "thalach        0.0063      0.001      5.572      0.000       0.004       0.008\n",
              "oldpeak       -0.1012      0.025     -3.983      0.000      -0.151      -0.051\n",
              "slope          0.0503      0.048      1.047      0.296      -0.044       0.145\n",
              "thal          -0.2111      0.039     -5.399      0.000      -0.288      -0.134\n",
              "==============================================================================\n",
              "Omnibus:                       12.490   Durbin-Watson:                   0.687\n",
              "Prob(Omnibus):                  0.002   Jarque-Bera (JB):                9.454\n",
              "Skew:                          -0.328   Prob(JB):                      0.00885\n",
              "Kurtosis:                       2.436   Cond. No.                     1.30e+03\n",
              "==============================================================================\n",
              "\n",
              "Warnings:\n",
              "[1] Standard Errors assume that the covariance matrix of the errors is correctly specified.\n",
              "[2] The condition number is large, 1.3e+03. This might indicate that there are\n",
              "strong multicollinearity or other numerical problems.\n",
              "\"\"\""
            ]
          },
          "metadata": {
            "tags": []
          },
          "execution_count": 32
        }
      ]
    },
    {
      "cell_type": "code",
      "metadata": {
        "id": "F6WM_xHnOuKV",
        "colab_type": "code",
        "colab": {
          "base_uri": "https://localhost:8080/",
          "height": 437
        },
        "outputId": "fd3c561e-ee4f-400d-ca60-aed492e028d8"
      },
      "source": [
        "#Perform a logistic regression\n",
        "x = heart[['restecg','thalach','oldpeak','slope','thal']]\n",
        "y = heart[['target']]\n",
        "x = sm.tools.add_constant(x)\n",
        "\n",
        "xtraining = x[sample]\n",
        "xtesting = x[~sample]\n",
        "ytraining = y[sample]\n",
        "ytesting = y[~sample]\n",
        "\n",
        "model = sm.discrete.discrete_model.Logit(ytraining, xtraining).fit()\n",
        "\n",
        "model.summary()"
      ],
      "execution_count": 33,
      "outputs": [
        {
          "output_type": "stream",
          "text": [
            "Optimization terminated successfully.\n",
            "         Current function value: 0.501682\n",
            "         Iterations 6\n"
          ],
          "name": "stdout"
        },
        {
          "output_type": "stream",
          "text": [
            "/usr/local/lib/python3.6/dist-packages/numpy/core/fromnumeric.py:2389: FutureWarning: Method .ptp is deprecated and will be removed in a future version. Use numpy.ptp instead.\n",
            "  return ptp(axis=axis, out=out, **kwargs)\n"
          ],
          "name": "stderr"
        },
        {
          "output_type": "execute_result",
          "data": {
            "text/html": [
              "<table class=\"simpletable\">\n",
              "<caption>Logit Regression Results</caption>\n",
              "<tr>\n",
              "  <th>Dep. Variable:</th>        <td>target</td>      <th>  No. Observations:  </th>  <td>   237</td>  \n",
              "</tr>\n",
              "<tr>\n",
              "  <th>Model:</th>                 <td>Logit</td>      <th>  Df Residuals:      </th>  <td>   231</td>  \n",
              "</tr>\n",
              "<tr>\n",
              "  <th>Method:</th>                 <td>MLE</td>       <th>  Df Model:          </th>  <td>     5</td>  \n",
              "</tr>\n",
              "<tr>\n",
              "  <th>Date:</th>            <td>Sun, 06 Oct 2019</td> <th>  Pseudo R-squ.:     </th>  <td>0.2683</td>  \n",
              "</tr>\n",
              "<tr>\n",
              "  <th>Time:</th>                <td>18:00:32</td>     <th>  Log-Likelihood:    </th> <td> -118.90</td> \n",
              "</tr>\n",
              "<tr>\n",
              "  <th>converged:</th>             <td>True</td>       <th>  LL-Null:           </th> <td> -162.50</td> \n",
              "</tr>\n",
              "<tr>\n",
              "  <th>Covariance Type:</th>     <td>nonrobust</td>    <th>  LLR p-value:       </th> <td>2.605e-17</td>\n",
              "</tr>\n",
              "</table>\n",
              "<table class=\"simpletable\">\n",
              "<tr>\n",
              "     <td></td>        <th>coef</th>     <th>std err</th>      <th>z</th>      <th>P>|z|</th>  <th>[0.025</th>    <th>0.975]</th>  \n",
              "</tr>\n",
              "<tr>\n",
              "  <th>const</th>   <td>   -1.6865</td> <td>    1.390</td> <td>   -1.213</td> <td> 0.225</td> <td>   -4.411</td> <td>    1.038</td>\n",
              "</tr>\n",
              "<tr>\n",
              "  <th>restecg</th> <td>    0.2802</td> <td>    0.305</td> <td>    0.918</td> <td> 0.359</td> <td>   -0.318</td> <td>    0.879</td>\n",
              "</tr>\n",
              "<tr>\n",
              "  <th>thalach</th> <td>    0.0338</td> <td>    0.009</td> <td>    3.945</td> <td> 0.000</td> <td>    0.017</td> <td>    0.051</td>\n",
              "</tr>\n",
              "<tr>\n",
              "  <th>oldpeak</th> <td>   -0.5231</td> <td>    0.186</td> <td>   -2.807</td> <td> 0.005</td> <td>   -0.888</td> <td>   -0.158</td>\n",
              "</tr>\n",
              "<tr>\n",
              "  <th>slope</th>   <td>    0.2158</td> <td>    0.309</td> <td>    0.698</td> <td> 0.485</td> <td>   -0.390</td> <td>    0.822</td>\n",
              "</tr>\n",
              "<tr>\n",
              "  <th>thal</th>    <td>   -1.3299</td> <td>    0.282</td> <td>   -4.720</td> <td> 0.000</td> <td>   -1.882</td> <td>   -0.778</td>\n",
              "</tr>\n",
              "</table>"
            ],
            "text/plain": [
              "<class 'statsmodels.iolib.summary.Summary'>\n",
              "\"\"\"\n",
              "                           Logit Regression Results                           \n",
              "==============================================================================\n",
              "Dep. Variable:                 target   No. Observations:                  237\n",
              "Model:                          Logit   Df Residuals:                      231\n",
              "Method:                           MLE   Df Model:                            5\n",
              "Date:                Sun, 06 Oct 2019   Pseudo R-squ.:                  0.2683\n",
              "Time:                        18:00:32   Log-Likelihood:                -118.90\n",
              "converged:                       True   LL-Null:                       -162.50\n",
              "Covariance Type:            nonrobust   LLR p-value:                 2.605e-17\n",
              "==============================================================================\n",
              "                 coef    std err          z      P>|z|      [0.025      0.975]\n",
              "------------------------------------------------------------------------------\n",
              "const         -1.6865      1.390     -1.213      0.225      -4.411       1.038\n",
              "restecg        0.2802      0.305      0.918      0.359      -0.318       0.879\n",
              "thalach        0.0338      0.009      3.945      0.000       0.017       0.051\n",
              "oldpeak       -0.5231      0.186     -2.807      0.005      -0.888      -0.158\n",
              "slope          0.2158      0.309      0.698      0.485      -0.390       0.822\n",
              "thal          -1.3299      0.282     -4.720      0.000      -1.882      -0.778\n",
              "==============================================================================\n",
              "\"\"\""
            ]
          },
          "metadata": {
            "tags": []
          },
          "execution_count": 33
        }
      ]
    },
    {
      "cell_type": "code",
      "metadata": {
        "id": "C4Nam1paL8K2",
        "colab_type": "code",
        "colab": {
          "base_uri": "https://localhost:8080/",
          "height": 349
        },
        "outputId": "d2a68cbf-00a1-44e4-888e-f2f74d385518"
      },
      "source": [
        "#Derive sensitivity, specificity, and accuracy from the model using the testing set\n",
        "phatTesting = model.predict(xtesting)\n",
        "\n",
        "fpr, tpr, threshold = skl.metrics.roc_curve(ytesting, phatTesting)\n",
        "\n",
        "sensitivity = tpr\n",
        "specificity = 1 - fpr\n",
        "\n",
        "thr = np.arange(0,1,0.01)\n",
        "length = np.arange(0,len(ytesting))\n",
        "phatTesting = np.asarray(phatTesting)\n",
        "\n",
        "acc_list = []\n",
        "\n",
        "\n",
        "for t in thr:\n",
        "  predictions = []\n",
        "  for l in length:\n",
        "    if phatTesting[l] > t:\n",
        "      predictions.append(1)\n",
        "    else:\n",
        "      predictions.append(0)\n",
        "  values = skl.metrics.accuracy_score(ytesting,predictions)\n",
        "  acc_list.append(values)\n",
        "\n",
        "print(acc_list)\n",
        "\n",
        "\n",
        "\n",
        "plt.figure()\n",
        "plt.title('Testing Set')\n",
        "plt.plot(threshold,sensitivity, label = 'Sensitivity')\n",
        "plt.xlabel('Threshold')\n",
        "plt.xlim(0,1)\n",
        "\n",
        "plt.plot(threshold,specificity, label = 'Specificity')\n",
        "\n",
        "plt.plot(thr,acc_list, label = 'Accuracy')\n",
        "\n",
        "plt.legend(loc = 'lower right')\n"
      ],
      "execution_count": 47,
      "outputs": [
        {
          "output_type": "stream",
          "text": [
            "[0.48484848484848486, 0.48484848484848486, 0.5, 0.5, 0.5151515151515151, 0.5303030303030303, 0.5757575757575758, 0.6060606060606061, 0.6212121212121212, 0.6515151515151515, 0.6515151515151515, 0.6818181818181818, 0.7121212121212122, 0.7272727272727273, 0.7272727272727273, 0.7272727272727273, 0.7272727272727273, 0.7272727272727273, 0.7424242424242424, 0.7424242424242424, 0.7424242424242424, 0.7424242424242424, 0.7424242424242424, 0.7575757575757576, 0.7727272727272727, 0.7878787878787878, 0.7878787878787878, 0.7878787878787878, 0.7878787878787878, 0.7878787878787878, 0.7878787878787878, 0.7878787878787878, 0.8181818181818182, 0.8181818181818182, 0.8181818181818182, 0.8181818181818182, 0.8181818181818182, 0.7878787878787878, 0.7878787878787878, 0.803030303030303, 0.803030303030303, 0.803030303030303, 0.8181818181818182, 0.8181818181818182, 0.8333333333333334, 0.8333333333333334, 0.8333333333333334, 0.8333333333333334, 0.8333333333333334, 0.8333333333333334, 0.8484848484848485, 0.8333333333333334, 0.8181818181818182, 0.803030303030303, 0.803030303030303, 0.803030303030303, 0.7727272727272727, 0.7272727272727273, 0.7121212121212122, 0.7121212121212122, 0.7121212121212122, 0.696969696969697, 0.696969696969697, 0.696969696969697, 0.6818181818181818, 0.6818181818181818, 0.6818181818181818, 0.7121212121212122, 0.7121212121212122, 0.7121212121212122, 0.7121212121212122, 0.7121212121212122, 0.7272727272727273, 0.696969696969697, 0.6818181818181818, 0.6818181818181818, 0.6818181818181818, 0.6818181818181818, 0.696969696969697, 0.6666666666666666, 0.6666666666666666, 0.6666666666666666, 0.6515151515151515, 0.6363636363636364, 0.6363636363636364, 0.6363636363636364, 0.6515151515151515, 0.6363636363636364, 0.6060606060606061, 0.6060606060606061, 0.5454545454545454, 0.5303030303030303, 0.5303030303030303, 0.5303030303030303, 0.5151515151515151, 0.5151515151515151, 0.5151515151515151, 0.5151515151515151, 0.5151515151515151, 0.5151515151515151]\n"
          ],
          "name": "stdout"
        },
        {
          "output_type": "execute_result",
          "data": {
            "text/plain": [
              "<matplotlib.legend.Legend at 0x7f0b9c5a1b70>"
            ]
          },
          "metadata": {
            "tags": []
          },
          "execution_count": 47
        },
        {
          "output_type": "display_data",
          "data": {
            "image/png": "[encoded data removed]",
            "text/plain": [
              "<Figure size 432x288 with 1 Axes>"
            ]
          },
          "metadata": {
            "tags": []
          }
        }
      ]
    },
    {
      "cell_type": "code",
      "metadata": {
        "id": "hALtDEQDU12f",
        "colab_type": "code",
        "colab": {
          "base_uri": "https://localhost:8080/",
          "height": 295
        },
        "outputId": "ade039e1-63e1-44c3-e9b3-d2716be1a7e2"
      },
      "source": [
        "#Compute the AUC of the ROC curve from the testing data\n",
        "roc_auc = skl.metrics.auc(fpr, tpr)\n",
        "plt.title('Receiver Operating Characteristic')\n",
        "plt.plot(fpr, tpr, 'b', label = 'AUC = %0.2f' % roc_auc)\n",
        "plt.legend(loc = 'lower right')\n",
        "plt.plot([0, 1], [0, 1],'r--')\n",
        "plt.xlim([0, 1])\n",
        "plt.ylim([0, 1])\n",
        "plt.ylabel('True Positive Rate')\n",
        "plt.xlabel('False Positive Rate')\n",
        "plt.show()"
      ],
      "execution_count": 35,
      "outputs": [
        {
          "output_type": "display_data",
          "data": {
            "image/png": "[encoded data removed]",
            "text/plain": [
              "<Figure size 432x288 with 1 Axes>"
            ]
          },
          "metadata": {
            "tags": []
          }
        }
      ]
    },
    {
      "cell_type": "code",
      "metadata": {
        "id": "mR9-s6Gxn6MW",
        "colab_type": "code",
        "colab": {
          "base_uri": "https://localhost:8080/",
          "height": 349
        },
        "outputId": "485fe6fe-741a-4b50-f462-159985693f6d"
      },
      "source": [
        "#Cross-validate sensitivity, specificity, and accuracy using the training set\n",
        "phatTraining = model.predict(xtraining)\n",
        "\n",
        "fpr, tpr, threshold = skl.metrics.roc_curve(ytraining, phatTraining)\n",
        "\n",
        "sensitivity1 = tpr\n",
        "specificity1 = 1 - fpr\n",
        "\n",
        "thr = np.arange(0,1,0.01)\n",
        "length = np.arange(0,len(ytraining))\n",
        "phatTraining = np.asarray(phatTraining)\n",
        "\n",
        "acc_list1 = []\n",
        "\n",
        "\n",
        "for t in thr:\n",
        "  predictions = []\n",
        "  for l in length:\n",
        "    if phatTraining[l] > t:\n",
        "      predictions.append(1)\n",
        "    else:\n",
        "      predictions.append(0)\n",
        "  values = skl.metrics.accuracy_score(ytraining,predictions)\n",
        "  acc_list1.append(values)\n",
        "\n",
        "print(acc_list1)\n",
        "\n",
        "\n",
        "\n",
        "plt.figure()\n",
        "plt.title('Training Set')\n",
        "plt.plot(threshold,sensitivity1, label = 'Sensitivity')\n",
        "plt.xlabel('Threshold')\n",
        "plt.xlim(0,1)\n",
        "\n",
        "plt.plot(threshold,specificity1, label = 'Specificity')\n",
        "\n",
        "plt.plot(thr,acc_list1, label = 'Accuracy')\n",
        "plt.legend(loc = 'lower right')"
      ],
      "execution_count": 46,
      "outputs": [
        {
          "output_type": "stream",
          "text": [
            "[0.5611814345991561, 0.5611814345991561, 0.5654008438818565, 0.5654008438818565, 0.569620253164557, 0.569620253164557, 0.5738396624472574, 0.5949367088607594, 0.6118143459915611, 0.620253164556962, 0.6286919831223629, 0.6413502109704642, 0.6455696202531646, 0.6582278481012658, 0.6624472573839663, 0.6708860759493671, 0.6835443037974683, 0.6877637130801688, 0.6962025316455697, 0.6962025316455697, 0.70042194092827, 0.7130801687763713, 0.7172995780590717, 0.729957805907173, 0.7257383966244726, 0.7257383966244726, 0.7341772151898734, 0.7426160337552743, 0.7426160337552743, 0.7426160337552743, 0.7383966244725738, 0.7510548523206751, 0.7468354430379747, 0.7468354430379747, 0.7426160337552743, 0.7468354430379747, 0.7510548523206751, 0.7510548523206751, 0.7341772151898734, 0.7383966244725738, 0.729957805907173, 0.7257383966244726, 0.7341772151898734, 0.7383966244725738, 0.7383966244725738, 0.7383966244725738, 0.7426160337552743, 0.7426160337552743, 0.7510548523206751, 0.7510548523206751, 0.7510548523206751, 0.759493670886076, 0.7637130801687764, 0.7721518987341772, 0.7721518987341772, 0.7721518987341772, 0.7721518987341772, 0.7637130801687764, 0.7637130801687764, 0.7552742616033755, 0.7510548523206751, 0.7510548523206751, 0.7510548523206751, 0.7510548523206751, 0.7468354430379747, 0.7426160337552743, 0.7426160337552743, 0.7468354430379747, 0.7426160337552743, 0.7341772151898734, 0.7215189873417721, 0.7046413502109705, 0.6962025316455697, 0.6919831223628692, 0.679324894514768, 0.6751054852320675, 0.6666666666666666, 0.6666666666666666, 0.6708860759493671, 0.6666666666666666, 0.6582278481012658, 0.6540084388185654, 0.6413502109704642, 0.6371308016877637, 0.6160337552742616, 0.6118143459915611, 0.6033755274261603, 0.569620253164557, 0.5485232067510548, 0.5316455696202531, 0.5189873417721519, 0.48945147679324896, 0.45569620253164556, 0.4472573839662447, 0.4430379746835443, 0.4388185654008439, 0.4388185654008439, 0.4388185654008439, 0.4388185654008439, 0.4388185654008439]\n"
          ],
          "name": "stdout"
        },
        {
          "output_type": "execute_result",
          "data": {
            "text/plain": [
              "<matplotlib.legend.Legend at 0x7f0b9c365908>"
            ]
          },
          "metadata": {
            "tags": []
          },
          "execution_count": 46
        },
        {
          "output_type": "display_data",
          "data": {
            "image/png": "[encoded data removed]",
            "text/plain": [
              "<Figure size 432x288 with 1 Axes>"
            ]
          },
          "metadata": {
            "tags": []
          }
        }
      ]
    },
    {
      "cell_type": "code",
      "metadata": {
        "id": "qNRbFUZCoU5z",
        "colab_type": "code",
        "colab": {
          "base_uri": "https://localhost:8080/",
          "height": 295
        },
        "outputId": "122635c0-c6d5-4e17-9578-a2ccd8bdac51"
      },
      "source": [
        "#Comput the AUC of the ROC curve from the training data\n",
        "roc_auc1 = skl.metrics.auc(fpr, tpr)\n",
        "plt.title('Receiver Operating Characteristic')\n",
        "plt.plot(fpr, tpr, 'b', label = 'AUC = %0.2f' % roc_auc1)\n",
        "plt.legend(loc = 'lower right')\n",
        "plt.plot([0, 1], [0, 1],'r--')\n",
        "plt.xlim([0, 1])\n",
        "plt.ylim([0, 1])\n",
        "plt.ylabel('True Positive Rate')\n",
        "plt.xlabel('False Positive Rate')\n",
        "plt.show()"
      ],
      "execution_count": 37,
      "outputs": [
        {
          "output_type": "display_data",
          "data": {
            "image/png": "[encoded data removed]",
            "text/plain": [
              "<Figure size 432x288 with 1 Axes>"
            ]
          },
          "metadata": {
            "tags": []
          }
        }
      ]
    },
    {
      "cell_type": "code",
      "metadata": {
        "id": "Vsi4rIClo1GQ",
        "colab_type": "code",
        "colab": {
          "base_uri": "https://localhost:8080/",
          "height": 34
        },
        "outputId": "3060112d-0aa0-4b6f-ba4b-499ce511366d"
      },
      "source": [
        "#Error rate in training vs testing data\n",
        "roc_diff = roc_auc - roc_auc1\n",
        "print(\"The difference in AUC for the two ROC curves derived from training and testing data is %.4f\" %(roc_diff))"
      ],
      "execution_count": 38,
      "outputs": [
        {
          "output_type": "stream",
          "text": [
            "The difference in AUC for the two ROC curves derived from training and testing data is 0.0254\n"
          ],
          "name": "stdout"
        }
      ]
    }
  ]
}