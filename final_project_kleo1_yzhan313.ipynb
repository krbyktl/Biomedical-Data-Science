{
  "nbformat": 4,
  "nbformat_minor": 0,
  "metadata": {
    "colab": {
      "name": "final-project-kleo1-yzhan313.ipynb",
      "provenance": [],
      "collapsed_sections": []
    },
    "kernelspec": {
      "name": "python3",
      "display_name": "Python 3"
    }
  },
  "cells": [
    {
      "cell_type": "markdown",
      "metadata": {
        "id": "ePHcRolBsWxc",
        "colab_type": "text"
      },
      "source": [
        "b) [30 points] Train a generalized linear model (i.e., logistic regression) with lasso\n",
        "regularization (Friedman et al., 2010) on the provided training data. You might\n",
        "want to use ‘pandas’ Python module and DataFrames for loading data from\n",
        "large .csv files. Follow the same pre-processing (if any) as in (Liu et al., 2019).\n",
        "You should use a stochastic optimization strategy by splitting your dataset into\n",
        "smaller chunks that you feed to the optimizer. You are allowed to use any\n",
        "libraries you might consider appropriate (e.g., scikit-learn (Pedregosa et al.,\n",
        "2011)) for solving the regression task."
      ]
    },
    {
      "cell_type": "code",
      "metadata": {
        "id": "0vb200bEsyXF",
        "colab_type": "code",
        "outputId": "3a209943-fb44-4813-eddb-65212e99c953",
        "colab": {
          "base_uri": "https://localhost:8080/",
          "height": 224
        }
      },
      "source": [
        "import numpy as np\n",
        "import pandas as pd\n",
        "import seaborn as sns\n",
        "import matplotlib.pyplot as plt\n",
        "import scipy.io\n",
        "import sklearn.linear_model as lm\n",
        "import sklearn as skl\n",
        "import statsmodels.formula.api as smf\n",
        "import statsmodels as sm\n",
        "\n",
        "# inline plots\n",
        "%matplotlib inline\n",
        "\n",
        "# set random number generator seed\n",
        "\n",
        "\n",
        "# mount GDrive\n",
        "from google.colab import drive\n",
        "drive.mount('gdrive/')\n",
        "\n",
        "# ============================================================================\n",
        "# data loading\n",
        "# ============================================================================\n",
        "\n",
        "# PLEASE, SPECIFY YOUR PATH TO THE DATA HERE\n",
        "datapath = 'gdrive/My Drive/bmdslab/final-project/'\n",
        "\n",
        "# get the list of files to process\n",
        "file1 = '/'.join((datapath,'glm.training.data.csv'))\n",
        "file2 = '/'.join((datapath,'glm.test.data.csv'))\n",
        "\n",
        "\n",
        "# get data as dictionary\n",
        "training = pd.read_csv(file1)\n",
        "testing = pd.read_csv(file2)\n",
        "\n",
        "\n",
        "training.keys()"
      ],
      "execution_count": 2,
      "outputs": [
        {
          "output_type": "stream",
          "text": [
            "Go to this URL in a browser: https://accounts.google.com/o/oauth2/auth?client_id=947318989803-6bn6qk8qdgf4n4g3pfee6491hc0brc4i.apps.googleusercontent.com&redirect_uri=urn%3Aietf%3Awg%3Aoauth%3A2.0%3Aoob&scope=email%20https%3A%2F%2Fwww.googleapis.com%2Fauth%2Fdocs.test%20https%3A%2F%2Fwww.googleapis.com%2Fauth%2Fdrive%20https%3A%2F%2Fwww.googleapis.com%2Fauth%2Fdrive.photos.readonly%20https%3A%2F%2Fwww.googleapis.com%2Fauth%2Fpeopleapi.readonly&response_type=code\n",
            "\n",
            "Enter your authorization code:\n",
            "··········\n",
            "Mounted at gdrive/\n"
          ],
          "name": "stdout"
        },
        {
          "output_type": "execute_result",
          "data": {
            "text/plain": [
              "Index(['Unnamed: 0', 'x.hr', 'x.sbp', 'x.dbp', 'x.mbp', 'x.resp', 'x.temp',\n",
              "       'x.cvp', 'x.pao2', 'x.fio2', 'x.gcs', 'x.bili', 'x.platelets',\n",
              "       'x.creat', 'x.lactate', 'x.bun', 'x.ph', 'x.wbc', 'x.paco2', 'x.hgb',\n",
              "       'x.hct', 'x.potassium', 'x.urine', 'x.resp.sofa', 'x.nervous.sofa',\n",
              "       'x.cardio.sofa', 'x.liver.sofa', 'x.coag.sofa', 'x.kidney.sofa', 'y'],\n",
              "      dtype='object')"
            ]
          },
          "metadata": {
            "tags": []
          },
          "execution_count": 2
        }
      ]
    },
    {
      "cell_type": "code",
      "metadata": {
        "id": "e5F-15vHydUq",
        "colab_type": "code",
        "colab": {}
      },
      "source": [
        "#preprocess data\n",
        "training = training.drop(['Unnamed: 0'], axis = 1)\n",
        "y_train=training['y']\n",
        "y_train=y_train.to_numpy()\n",
        "\n",
        "training=training.drop(['y'], axis=1)\n",
        "training=training.to_numpy()\n",
        "\n",
        "#normalizes data\n",
        "from sklearn.preprocessing import scale\n",
        "training = scale( training, axis=0, with_mean=True, with_std=True, copy=True )"
      ],
      "execution_count": 0,
      "outputs": []
    },
    {
      "cell_type": "code",
      "metadata": {
        "id": "wJ8e2MELCBQ0",
        "colab_type": "code",
        "outputId": "89fd8365-f1dc-4ed3-f87d-8bf4c9bd5b54",
        "colab": {
          "base_uri": "https://localhost:8080/",
          "height": 34
        }
      },
      "source": [
        "#b \n",
        "from sklearn.linear_model import SGDClassifier\n",
        "model=SGDClassifier(alpha=0.0001, average=False,\n",
        "           early_stopping=True, fit_intercept=True,\n",
        "           l1_ratio=1, learning_rate='optimal', loss='log', max_iter=80,\n",
        "           n_iter_no_change=5, penalty='l1', power_t=0.5, tol=0.001,\n",
        "           validation_fraction=0.1, verbose=0, warm_start=False)\n",
        "model.fit(training,y_train)\n",
        "y_pred=model.predict(training)\n",
        "\n",
        "acc=model.score(training, y_train)\n",
        "print(acc)"
      ],
      "execution_count": 4,
      "outputs": [
        {
          "output_type": "stream",
          "text": [
            "0.9074419489912448\n"
          ],
          "name": "stdout"
        }
      ]
    },
    {
      "cell_type": "markdown",
      "metadata": {
        "id": "volGsOKRsbnH",
        "colab_type": "text"
      },
      "source": [
        "c) [20 points] Determine the optimal regularization value λ ≥ 0 via cross-validation\n",
        "as described in (Liu et al., 2019)."
      ]
    },
    {
      "cell_type": "code",
      "metadata": {
        "id": "2ZLvSS1mbgGa",
        "colab_type": "code",
        "outputId": "22326b58-7929-40f4-93eb-d97de23ba133",
        "colab": {
          "base_uri": "https://localhost:8080/",
          "height": 51
        }
      },
      "source": [
        "#first do a simple run to determine a range of lambda \n",
        "lam_acc1=np.zeros(10)\n",
        "lam1=np.linspace(0.0001,0.05,10)\n",
        "\n",
        "for i in range(len(lam1)):\n",
        "      model=SGDClassifier(alpha=lam1[i], average=False,\n",
        "           early_stopping=True, fit_intercept=True,\n",
        "           l1_ratio=1, learning_rate='optimal', loss='log', max_iter=80,\n",
        "           n_iter_no_change=5, penalty='l1', power_t=0.5, tol=0.001,\n",
        "           validation_fraction=0.1, verbose=0, warm_start=False)\n",
        "      model.fit(training,y_train)\n",
        "    \n",
        "      acc=model.score(training, y_train)\n",
        "      lam_acc1[i]=lam_acc1[i]+acc\n",
        "print(lam_acc1)"
      ],
      "execution_count": 5,
      "outputs": [
        {
          "output_type": "stream",
          "text": [
            "[0.9035243  0.89972656 0.89290889 0.88680053 0.8821241  0.8747107\n",
            " 0.85179546 0.84167301 0.83835046 0.83500063]\n"
          ],
          "name": "stdout"
        }
      ]
    },
    {
      "cell_type": "code",
      "metadata": {
        "id": "t7WL5tY1xyg_",
        "colab_type": "code",
        "outputId": "04d4ca77-7e8d-43d0-8761-adc8f14daee5",
        "colab": {
          "base_uri": "https://localhost:8080/",
          "height": 85
        }
      },
      "source": [
        "#narrow the range just a little more\n",
        "lam_acc2=np.zeros(10)\n",
        "smaller_lam = np.linspace(0.00001,0.005,10)\n",
        "\n",
        "for j in range(len(smaller_lam)):\n",
        "      model=SGDClassifier(alpha=smaller_lam[j], average=False,\n",
        "           early_stopping=True, fit_intercept=True,\n",
        "           l1_ratio=1, learning_rate='optimal', loss='log', max_iter=80,\n",
        "           n_iter_no_change=5, penalty='l1', power_t=0.5, tol=0.001,\n",
        "           validation_fraction=0.1, verbose=0, warm_start=False)\n",
        "      model.fit(training,y_train)\n",
        "    \n",
        "      acc=model.score(training, y_train)\n",
        "      lam_acc2[j]=lam_acc2[j]+acc\n",
        "print(lam_acc2)"
      ],
      "execution_count": 6,
      "outputs": [
        {
          "output_type": "stream",
          "text": [
            "[0.86237026 0.90723258 0.90700482 0.90685383 0.90720213 0.90208159\n",
            " 0.90193884 0.90167936 0.90085776 0.89918475]\n",
            "[0.86237026 0.90723258 0.90700482 0.90685383 0.90720213 0.90208159\n",
            " 0.90193884 0.90167936 0.90085776 0.89918475]\n"
          ],
          "name": "stdout"
        }
      ]
    },
    {
      "cell_type": "code",
      "metadata": {
        "id": "mA_crJsZPdH7",
        "colab_type": "code",
        "outputId": "b6e0e0ff-3f3b-4821-e545-1eb00af2eeaf",
        "colab": {
          "base_uri": "https://localhost:8080/",
          "height": 357
        }
      },
      "source": [
        "#now do 10-fold cross validation \n",
        "from sklearn.model_selection import KFold\n",
        "from sklearn.metrics import accuracy_score\n",
        "\n",
        "lam=np.linspace(0.0001,0.001,5)\n",
        "\n",
        "kf = KFold(n_splits=10)\n",
        "kf.get_n_splits(training)\n",
        "\n",
        "lam_acc=np.zeros(5)\n",
        "\n",
        "KFold(n_splits=10, random_state=None, shuffle=True)\n",
        "for train_index, test_index in kf.split(training):\n",
        "    print(\"TRAIN:\", train_index, \"TEST:\", test_index)\n",
        "    X_train, X_test = training[train_index], training[test_index]\n",
        "    Y_train, Y_test = y_train[train_index], y_train[test_index]\n",
        "\n",
        "    for k in range(len(lam)):\n",
        "      model=SGDClassifier(alpha=lam[k], average=False,\n",
        "           early_stopping=True, fit_intercept=True,\n",
        "           l1_ratio=1, learning_rate='optimal', loss='log', max_iter=20,\n",
        "           n_iter_no_change=5, penalty='l1', power_t=0.5, tol=0.001,\n",
        "           validation_fraction=0.1, verbose=0, warm_start=False)\n",
        "      model.fit(X_train,Y_train)\n",
        "    \n",
        "      y_score=model.predict(X_test)\n",
        "      acc=accuracy_score(Y_test, y_score)\n",
        "      lam_acc[k]=lam_acc[k]+acc\n",
        "lam_opti=lam[np.argmax(lam_acc)]"
      ],
      "execution_count": 7,
      "outputs": [
        {
          "output_type": "stream",
          "text": [
            "TRAIN: [ 157620  157621  157622 ... 1576197 1576198 1576199] TEST: [     0      1      2 ... 157617 157618 157619]\n",
            "TRAIN: [ 157620  157621  157622 ... 1576197 1576198 1576199] TEST: [     0      1      2 ... 157617 157618 157619]\n",
            "TRAIN: [      0       1       2 ... 1576197 1576198 1576199] TEST: [157620 157621 157622 ... 315237 315238 315239]\n",
            "TRAIN: [      0       1       2 ... 1576197 1576198 1576199] TEST: [157620 157621 157622 ... 315237 315238 315239]\n",
            "TRAIN: [      0       1       2 ... 1576197 1576198 1576199] TEST: [315240 315241 315242 ... 472857 472858 472859]\n",
            "TRAIN: [      0       1       2 ... 1576197 1576198 1576199] TEST: [315240 315241 315242 ... 472857 472858 472859]\n",
            "TRAIN: [      0       1       2 ... 1576197 1576198 1576199] TEST: [472860 472861 472862 ... 630477 630478 630479]\n",
            "TRAIN: [      0       1       2 ... 1576197 1576198 1576199] TEST: [472860 472861 472862 ... 630477 630478 630479]\n",
            "TRAIN: [      0       1       2 ... 1576197 1576198 1576199] TEST: [630480 630481 630482 ... 788097 788098 788099]\n",
            "TRAIN: [      0       1       2 ... 1576197 1576198 1576199] TEST: [630480 630481 630482 ... 788097 788098 788099]\n",
            "TRAIN: [      0       1       2 ... 1576197 1576198 1576199] TEST: [788100 788101 788102 ... 945717 945718 945719]\n",
            "TRAIN: [      0       1       2 ... 1576197 1576198 1576199] TEST: [788100 788101 788102 ... 945717 945718 945719]\n",
            "TRAIN: [      0       1       2 ... 1576197 1576198 1576199] TEST: [ 945720  945721  945722 ... 1103337 1103338 1103339]\n",
            "TRAIN: [      0       1       2 ... 1576197 1576198 1576199] TEST: [ 945720  945721  945722 ... 1103337 1103338 1103339]\n",
            "TRAIN: [      0       1       2 ... 1576197 1576198 1576199] TEST: [1103340 1103341 1103342 ... 1260957 1260958 1260959]\n",
            "TRAIN: [      0       1       2 ... 1576197 1576198 1576199] TEST: [1103340 1103341 1103342 ... 1260957 1260958 1260959]\n",
            "TRAIN: [      0       1       2 ... 1576197 1576198 1576199] TEST: [1260960 1260961 1260962 ... 1418577 1418578 1418579]\n",
            "TRAIN: [      0       1       2 ... 1576197 1576198 1576199] TEST: [1260960 1260961 1260962 ... 1418577 1418578 1418579]\n",
            "TRAIN: [      0       1       2 ... 1418577 1418578 1418579] TEST: [1418580 1418581 1418582 ... 1576197 1576198 1576199]\n",
            "TRAIN: [      0       1       2 ... 1418577 1418578 1418579] TEST: [1418580 1418581 1418582 ... 1576197 1576198 1576199]\n"
          ],
          "name": "stdout"
        }
      ]
    },
    {
      "cell_type": "markdown",
      "metadata": {
        "id": "-miANol1sgus",
        "colab_type": "text"
      },
      "source": [
        "d) [20 points] Evaluate the ROC curve on the test data and compute the operating\n",
        "point corresponding to the optimal threshold as defined in (Liu et al., 2019).\n",
        "Plot the obtained ROC curve overlaying the operating point and its associated\n",
        "probability of detection (True Positive Rate) and probability of false alarm\n",
        "(False Positive Rate). Add also to the figure the Area Under the Curve (AUC)\n",
        "value"
      ]
    },
    {
      "cell_type": "code",
      "metadata": {
        "id": "gBfhrJDOsQxk",
        "colab_type": "code",
        "colab": {}
      },
      "source": [
        "#preprocess testing data\n",
        "testing_roc=testing.drop(['Unnamed: 0'], axis=1)\n",
        "y_test_roc=testing_roc['y']\n",
        "y_test_roc=y_test_roc.to_numpy()\n",
        "\n",
        "testing_roc=testing_roc.drop(['y'], axis=1)\n",
        "testing_roc=testing_roc.drop(['patient'], axis=1)\n",
        "testing_roc=testing_roc.to_numpy()\n",
        "\n",
        "\n",
        "#normalizes data\n",
        "testing_roc = scale( testing_roc, axis=0, with_mean=True, with_std=True, copy=True )"
      ],
      "execution_count": 0,
      "outputs": []
    },
    {
      "cell_type": "code",
      "metadata": {
        "id": "0OqqMjstNtGI",
        "colab_type": "code",
        "outputId": "691a9d89-306c-41ba-9f91-7e7c0053b2d0",
        "colab": {
          "base_uri": "https://localhost:8080/",
          "height": 573
        }
      },
      "source": [
        "model=SGDClassifier(alpha=lam_opti, average=False, class_weight='balanced',\n",
        "           early_stopping=True, fit_intercept=True,\n",
        "           l1_ratio=1, learning_rate='optimal', loss='log', max_iter=80,\n",
        "           n_iter_no_change=5, penalty='l1', power_t=0.5, tol=0.001,\n",
        "           validation_fraction=0.1, verbose=0, warm_start=False)\n",
        "model.fit(training,y_train)\n",
        "\n",
        "y_pred_train=model.predict_proba(training)\n",
        "y_pred_train=y_pred_train[:,1]\n",
        "\n",
        "fpr_train, tpr_train, threshold_train = skl.metrics.roc_curve(y_train, y_pred_train)\n",
        "\n",
        "distance=[]\n",
        "for k in range(len(fpr_train)):\n",
        "  distance.append(np.sqrt((tpr_train[k]-1)**2+(fpr_train[k])**2))\n",
        "\n",
        "opt_index = np.argmin(distance)\n",
        "opt_thres=threshold_train[opt_index]\n",
        "\n",
        "roc_auc_train = skl.metrics.auc(fpr_train, tpr_train)\n",
        "plt.figure()\n",
        "plt.title('ROC Train')\n",
        "plt.plot(fpr_train, tpr_train, 'b', label = 'AUC = %0.2f' % roc_auc_train)\n",
        "plt.scatter(fpr_train[opt_index], tpr_train[opt_index], label = '(FPR,TPR) = (%0.2f,%0.2f)' %(fpr_train[opt_index],tpr_train[opt_index]))\n",
        "plt.legend(loc = 'lower right')\n",
        "plt.plot([0, 1], [0, 1],'r--')\n",
        "plt.xlim([0, 1])\n",
        "plt.ylim([0, 1])\n",
        "plt.ylabel('True Positive Rate')\n",
        "plt.xlabel('False Positive Rate')\n",
        "plt.show()\n",
        "\n",
        "y_pred_test = model.predict_proba(testing_roc)\n",
        "y_pred_test=y_pred_test[:,1]\n",
        "\n",
        "fpr, tpr, threshold = skl.metrics.roc_curve(y_test_roc, y_pred_test)\n",
        "\n",
        "roc_auc = skl.metrics.auc(fpr, tpr)\n",
        "plt.figure()\n",
        "plt.title('ROC Test')\n",
        "plt.plot(fpr, tpr, 'b', label = 'AUC = %0.2f' % roc_auc)\n",
        "plt.legend(loc = 'lower right')\n",
        "plt.plot([0, 1], [0, 1],'r--')\n",
        "plt.xlim([0, 1])\n",
        "plt.ylim([0, 1])\n",
        "plt.ylabel('True Positive Rate')\n",
        "plt.xlabel('False Positive Rate')\n",
        "plt.show()"
      ],
      "execution_count": 11,
      "outputs": [
        {
          "output_type": "display_data",
          "data": {
            "image/png": "[encoded data removed]",
            "text/plain": [
              "<Figure size 432x288 with 1 Axes>"
            ]
          },
          "metadata": {
            "tags": []
          }
        },
        {
          "output_type": "display_data",
          "data": {
            "image/png": "[encoded data removed]",
            "text/plain": [
              "<Figure size 432x288 with 1 Axes>"
            ]
          },
          "metadata": {
            "tags": []
          }
        }
      ]
    },
    {
      "cell_type": "markdown",
      "metadata": {
        "id": "sJrTX2l1slM-",
        "colab_type": "text"
      },
      "source": [
        "e) [10 points] Generate a histogram of EWT values on the test data."
      ]
    },
    {
      "cell_type": "code",
      "metadata": {
        "id": "zxF4vVqrY0_-",
        "colab_type": "code",
        "outputId": "fa3ec77c-526e-4186-af87-5bd04e561f46",
        "colab": {
          "base_uri": "https://localhost:8080/",
          "height": 204
        }
      },
      "source": [
        "#load data\n",
        "file3 = ''.join((datapath,'test.onsets.csv'))\n",
        "file4 = ''.join((datapath,'timestamps.test.csv'))\n",
        "onsets = pd.read_csv(file3)\n",
        "timestamps = pd.read_csv(file4)\n",
        "onsets.head(5)"
      ],
      "execution_count": 0,
      "outputs": [
        {
          "output_type": "execute_result",
          "data": {
            "text/html": [
              "<div>\n",
              "<style scoped>\n",
              "    .dataframe tbody tr th:only-of-type {\n",
              "        vertical-align: middle;\n",
              "    }\n",
              "\n",
              "    .dataframe tbody tr th {\n",
              "        vertical-align: top;\n",
              "    }\n",
              "\n",
              "    .dataframe thead th {\n",
              "        text-align: right;\n",
              "    }\n",
              "</style>\n",
              "<table border=\"1\" class=\"dataframe\">\n",
              "  <thead>\n",
              "    <tr style=\"text-align: right;\">\n",
              "      <th></th>\n",
              "      <th>Unnamed: 0</th>\n",
              "      <th>x</th>\n",
              "    </tr>\n",
              "  </thead>\n",
              "  <tbody>\n",
              "    <tr>\n",
              "      <th>0</th>\n",
              "      <td>1</td>\n",
              "      <td>2106-06-17 21:15:00</td>\n",
              "    </tr>\n",
              "    <tr>\n",
              "      <th>1</th>\n",
              "      <td>2</td>\n",
              "      <td>2120-12-31 17:15:00</td>\n",
              "    </tr>\n",
              "    <tr>\n",
              "      <th>2</th>\n",
              "      <td>3</td>\n",
              "      <td>2132-11-01 00:08:00</td>\n",
              "    </tr>\n",
              "    <tr>\n",
              "      <th>3</th>\n",
              "      <td>4</td>\n",
              "      <td>2157-03-07 13:41:00</td>\n",
              "    </tr>\n",
              "    <tr>\n",
              "      <th>4</th>\n",
              "      <td>5</td>\n",
              "      <td>2122-02-15 03:00:00</td>\n",
              "    </tr>\n",
              "  </tbody>\n",
              "</table>\n",
              "</div>"
            ],
            "text/plain": [
              "   Unnamed: 0                    x\n",
              "0           1  2106-06-17 21:15:00\n",
              "1           2  2120-12-31 17:15:00\n",
              "2           3  2132-11-01 00:08:00\n",
              "3           4  2157-03-07 13:41:00\n",
              "4           5  2122-02-15 03:00:00"
            ]
          },
          "metadata": {
            "tags": []
          },
          "execution_count": 12
        }
      ]
    },
    {
      "cell_type": "code",
      "metadata": {
        "id": "J1WvUkQMSzQy",
        "colab_type": "code",
        "colab": {}
      },
      "source": [
        "#predicted classification for the testing set\n",
        "phatTesting = model.predict_proba(testing_roc)\n",
        "phatTesting=phatTesting[:,1]\n",
        "phatTesting[phatTesting > opt_thres] = 1\n",
        "phatTesting[phatTesting < opt_thres] = 0\n",
        "phatTesting = phatTesting.astype(int)\n",
        "\n",
        "testing = testing.assign(predy = phatTesting)\n",
        "\n",
        "#drop Unnamed column in timestamps and append the times to the testing dataframe\n",
        "timestamps = timestamps.drop(['Unnamed: 0'], axis=1)\n",
        "testing['timestamps'] = timestamps"
      ],
      "execution_count": 0,
      "outputs": []
    },
    {
      "cell_type": "code",
      "metadata": {
        "id": "YssFPwfRXIjK",
        "colab_type": "code",
        "colab": {}
      },
      "source": [
        "#select patients who undergo septic shock\n",
        "sepspatients = testing[testing['patient'] == 6737-1113]\n",
        "for v in reversed(range(1113)):\n",
        "  sepspatients = sepspatients.append(testing[testing['patient'] == 6737-v])"
      ],
      "execution_count": 0,
      "outputs": []
    },
    {
      "cell_type": "code",
      "metadata": {
        "id": "7LWMt1Wnfg8u",
        "colab_type": "code",
        "outputId": "3caa5094-faf6-4e79-a8b7-c7649344e4af",
        "colab": {
          "base_uri": "https://localhost:8080/",
          "height": 85
        }
      },
      "source": [
        "#find the first time point we predict onset will occur for these patients\n",
        "sepsdet = testing[testing['patient'] == 6737-1113][testing['predy']==1]\n",
        "nodet = []\n",
        "for b in reversed(range(1113)):\n",
        "  current = testing[testing['patient'] == 6737-b][testing['predy']==1]\n",
        "  if len(current) > 0:\n",
        "    sepsdet = sepsdet.append(current.head(1))\n",
        "  else:\n",
        "    nodet.append(6737-b)\n"
      ],
      "execution_count": 0,
      "outputs": [
        {
          "output_type": "stream",
          "text": [
            "/usr/local/lib/python3.6/dist-packages/ipykernel_launcher.py:1: UserWarning: Boolean Series key will be reindexed to match DataFrame index.\n",
            "  \"\"\"Entry point for launching an IPython kernel.\n",
            "/usr/local/lib/python3.6/dist-packages/ipykernel_launcher.py:4: UserWarning: Boolean Series key will be reindexed to match DataFrame index.\n",
            "  after removing the cwd from sys.path.\n"
          ],
          "name": "stderr"
        }
      ]
    },
    {
      "cell_type": "code",
      "metadata": {
        "id": "p2029KO5oqwB",
        "colab_type": "code",
        "outputId": "c2ccf904-ce59-40b2-cd52-ab743bc231aa",
        "colab": {
          "base_uri": "https://localhost:8080/",
          "height": 34
        }
      },
      "source": [
        "#eliminate the patients in the onset data that we failed to predict septic shock at all\n",
        "onsets = onsets.drop(['Unnamed: 0'], axis=1)\n",
        "patno = np.linspace(5624,6737,1114)\n",
        "indexes = []\n",
        "for a in range(1114):\n",
        "  for b in range(len(nodet)):\n",
        "    if patno[a] == nodet[b]:\n",
        "      indexes.append(a)\n",
        "print(indexes)\n",
        "for i in indexes:\n",
        "  onsets = onsets.drop([i], axis = 0)"
      ],
      "execution_count": 0,
      "outputs": [
        {
          "output_type": "stream",
          "text": [
            "[222, 242, 403, 677, 891]\n"
          ],
          "name": "stdout"
        }
      ]
    },
    {
      "cell_type": "code",
      "metadata": {
        "id": "Su-lRpa2xr3y",
        "colab_type": "code",
        "outputId": "5c3de893-9790-4169-ad06-0364536b156a",
        "colab": {
          "base_uri": "https://localhost:8080/",
          "height": 105
        }
      },
      "source": [
        "#Early warning time (EWT) is defined as the difference between shock onset time (to) and detection time (td)\n",
        "to = np.asarray(onsets)\n",
        "td = np.asarray(sepsdet['timestamps'])\n",
        "days31 = [1, 3, 5, 7, 8, 10, 12]\n",
        "days30 = [4, 6, 9, 11]\n",
        "tdiff = []\n",
        "for d in range(len(to)):\n",
        "  to_mon = np.asfarray(to[d][0][5:7],float)\n",
        "  td_mon = np.asfarray(td[d][5:7],float)\n",
        "  to_day = np.asfarray(to[d][0][8:10],float)\n",
        "  td_day = np.asfarray(td[d][8:10],float)\n",
        "  to_hour = np.asfarray(to[d][0][11:13],float)\n",
        "  td_hour = np.asfarray(td[d][11:13],float)\n",
        "  to_min = np.asfarray(to[d][0][14:16],float)/60\n",
        "  td_min = np.asfarray(td[d][14:16],float)/60\n",
        "  to_time = to_hour+to_min\n",
        "  td_time = td_hour+td_min\n",
        "  if to[d][0][:11] == td[d][:11]:\n",
        "    tdiff.append(to_time - td_time)\n",
        "  elif to[d][0][:8] == td[d][:8]:\n",
        "    hrs = (to_day-td_day-1)*24\n",
        "    tdiff.append(24-to_time + hrs + td_time)\n",
        "  else:\n",
        "    if td_mon in days31:\n",
        "      hrs = (to_day + 30 - td_day)*24\n",
        "      tdiff.append(24-to_time + hrs + td_time)\n",
        "    elif td_mon in days30:\n",
        "      hrs = (to_day + 29 - td_day)*24\n",
        "      tdiff.append(24-to_time + hrs + td_time)\n",
        "    else:\n",
        "      hrs = (to_day + 27 - td_day)*24\n",
        "      tdiff.append(24-to_time + hrs + td_time)\n",
        "print(tdiff)\n",
        "print(len(tdiff))\n",
        "#append on the patients we failed as individuals with 0 EWT\n",
        "for ind in range(len(indexes)):\n",
        "  tdiff.append(0)\n",
        "print(tdiff)\n",
        "print(len(tdiff))"
      ],
      "execution_count": 0,
      "outputs": [
        {
          "output_type": "stream",
          "text": [
            "[0.0, 6.916666666666666, 40.86666666666667, 2.6833333333333336, 35.333333333333336, 3.666666666666667, 0.0, 0.0, 0.0, 0.4166666666666661, 12.983333333333334, 1.0, 0.0, 19.583333333333336, 1.0833333333333321, 316.68333333333334, 4.916666666666666, 0.5, 63.0, 28.71666666666667, 6.25, 89.55, 29.683333333333334, 9.55, 2.9833333333333325, 76.55, 11.283333333333333, 148.13333333333333, 504.28333333333336, 81.2, 1.6666666666666665, 177.25, 8.75, 615.5833333333334, 34.15, 6.85, 11.666666666666668, 30.95, 1.5, 0.0, 31.75, 2.3166666666666664, 19.03333333333333, 1.583333333333333, 0.7166666666666668, 72.75, 3.166666666666666, 4.0, 3.6833333333333336, 6.933333333333334, 4.983333333333334, 128.0, 27.5, 1.216666666666665, 511.2, 3.333333333333334, 45.5, 0.0, 32.61666666666667, 167.25, 313.01666666666665, 4.25, 7.133333333333333, 33.45, 29.083333333333332, 0.43333333333333357, 27.75, 288.5, 6.783333333333335, 81.61666666666667, 45.0, 1.8833333333333333, 2.75, 0.0, 53.0, 0.34999999999999964, 34.75, 0.0, 39.016666666666666, 5.666666666666666, 5.933333333333334, 13.5, 33.0, 6.133333333333331, 222.5, 2.7666666666666675, 14.299999999999999, 233.01666666666665, 0.0, 28.483333333333334, 3.0500000000000007, 44.43333333333334, 1.6166666666666671, 37.65, 49.15, 537.1833333333333, 763.0, 0.4166666666666665, 0.0, 453.71666666666664, 1.0, 0.0, 0.0, 0.0, 18.166666666666668, 0.3333333333333339, 0.8166666666666669, 31.316666666666666, 0.0, 37.5, 8.75, 0.5, 6.033333333333333, 1.6499999999999986, 0.0, 2.6499999999999986, 0.34999999999999964, 0.0, 2.416666666666668, 5.433333333333334, 34.75, 1.0833333333333321, 0.0, 79.31666666666666, 7.9, 84.5, 116.83333333333333, 6.999999999999998, 0.0, 3.5, 6.75, 14.583333333333334, 0.0, 40.733333333333334, 1.5166666666666657, 80.23333333333333, 32.58333333333333, 1.25, 24.883333333333333, 31.21666666666667, 3.6666666666666643, 82.25, 0.6333333333333329, 72.75, 32.050000000000004, 33.75, 191.28333333333333, 5.0, 31.766666666666666, 6.25, 3.0, 18.866666666666667, 231.7, 46.03333333333333, 1.75, 3.3999999999999986, 98.5, 0.0, 25.066666666666666, 0.0, 0.0, 0.36666666666666536, 2.583333333333332, 0.0, 3.4333333333333336, 24.5, 36.916666666666664, 0.0, 35.166666666666664, 1.75, 1.0, 2.75, 6.350000000000001, 0.0, 0.9166666666666665, 4.300000000000001, 0.0, 2.8666666666666654, 11.466666666666665, 0.0, 30.53333333333333, 2.0, 0.0, 2.5, 153.68333333333334, 2.1166666666666663, 0.8666666666666671, 1.4333333333333336, 34.25, 58.0, 18.5, 2.0, 31.183333333333337, 34.5, 25.316666666666666, 1.0, 7.0, 38.7, 2.2333333333333325, 255.66666666666666, 25.55, 0.0, 0.0, 11.316666666666668, 4.066666666666666, 46.5, 0.0, 6.466666666666667, 38.0, 1.0, 3.5, 2.283333333333335, 1.0833333333333335, 4.25, 9.616666666666665, 0.5, 0.0, 48.88333333333333, 35.516666666666666, 0.0, 20.116666666666664, 27.233333333333334, 1.0, 27.166666666666668, 61.18333333333334, 132.31666666666666, 36.0, 28.816666666666666, 9.116666666666667, 123.61666666666667, 0.06666666666666687, 5.766666666666667, 183.61666666666667, 0.0, 0.6666666666666679, 20.366666666666667, 0.0, 0.0, 2.1833333333333336, 42.53333333333333, 21.766666666666666, 1.2999999999999998, 1.2833333333333332, 8.7, 36.0, 0.0, 67.73333333333333, 0.9166666666666679, 3.5166666666666666, 85.91666666666667, 5.516666666666666, 37.0, 21.5, 71.13333333333333, 94.0, 1.666666666666666, 6.733333333333334, 0.0, 0.9166666666666679, 10.583333333333334, 104.63333333333333, 7.0, 0.33333333333333215, 235.4, 8.483333333333334, 379.7, 357.5833333333333, 10.75, 2.5, 1.5, 38.91666666666667, 105.5, 0.0, 40.266666666666666, 3.866666666666667, 38.35, 4.25, 0.0, 5.75, 2.5, 14.483333333333333, 521.2, 40.0, 3.5999999999999996, 104.28333333333333, 4.1, 78.66666666666666, 174.9, 0.0, 1.0, 1.6833333333333336, 2.249999999999999, 21.25, 44.983333333333334, 135.58333333333331, 2.966666666666665, 1.5333333333333332, 6.9, 62.4, 6.149999999999999, 2.0, 3.7666666666666666, 70.21666666666667, 19.65, 1.4333333333333336, 19.0, 4.516666666666666, 43.08333333333333, 326.0, 9.0, 391.0, 3.5, 3.1, 51.08333333333333, 64.18333333333334, 5.616666666666667, 1.333333333333334, 7.800000000000001, 0.0, 0.0, 44.016666666666666, 71.66666666666667, 0.0, 26.116666666666667, 1.0, 674.2166666666667, 7.0, 26.75, 72.15, 55.61666666666666, 280.91666666666663, 220.0, 26.5, 133.35, 1.8666666666666671, 2.5666666666666664, 0.0, 0.0, 2.0, 25.133333333333333, 8.366666666666665, 0.9499999999999993, 0.966666666666665, 34.75, 33.7, 22.466666666666665, 0.0, 43.7, 2.0, 0.0, 9.616666666666667, 42.75, 0.0, 1.8666666666666671, 0.0, 32.266666666666666, 239.25, 0.0, 9.666666666666666, 0.6000000000000014, 10.0, 30.53333333333333, 3.6999999999999993, 1.25, 12.9, 60.25, 41.5, 6.916666666666667, 66.66666666666667, 8.200000000000001, 25.766666666666666, 0.033333333333333215, 6.0166666666666675, 40.0, 141.0, 12.566666666666666, 279.75, 303.3666666666667, 4.0, 0.0, 1.0, 229.0, 559.0, 6.983333333333333, 42.516666666666666, 43.9, 225.03333333333333, 9.116666666666667, 0.0, 903.0, 32.63333333333333, 101.03333333333333, 2.533333333333333, 11.25, 19.0, 7.25, 11.566666666666666, 0.0, 2.2333333333333334, 0.0, 456.0, 339.55, 148.0, 1.1, 20.25, 7.5, 42.5, 3.45, 6.0, 35.58333333333333, 1.9833333333333325, 7.783333333333333, 98.58333333333333, 0.0, 1.0833333333333321, 45.733333333333334, 0.9000000000000004, 2.1833333333333336, 847.9833333333333, 6.350000000000001, 1327.75, 325.76666666666665, 309.23333333333335, 0.0, 7.4833333333333325, 42.016666666666666, 9.45, 1.9833333333333343, 0.0, 5.200000000000001, 32.28333333333333, 46.0, 75.36666666666667, 9.100000000000001, 185.81666666666666, 35.88333333333333, 48.5, 125.33333333333333, 0.0, 24.916666666666664, 1.0, 86.58333333333333, 2.633333333333333, 3.6166666666666654, 51.15, 9.416666666666666, 73.0, 9.850000000000001, 0.0, 0.0, 0.0, 38.71666666666667, 0.5, 0.0, 140.66666666666669, 13.483333333333333, 24.0, 8.950000000000001, 46.91666666666667, 25.516666666666666, 2.0, 3.666666666666667, 0.2999999999999998, 17.3, 0.0, 867.2666666666667, 2.4333333333333336, 0.0, 43.78333333333333, 1.1833333333333336, 19.0, 35.5, 57.95, 1.0, 24.35, 33.75, 1.0, 0.0, 32.65, 6.816666666666666, 38.5, 5.233333333333333, 87.08333333333333, 1.0, 0.0, 15.666666666666668, 1.0666666666666664, 2.6999999999999993, 32.85, 8.283333333333333, 89.46666666666667, 69.8, 1.0, 32.03333333333333, 9.5, 1.0166666666666657, 2.616666666666667, 64.0, 42.96666666666667, 0.0, 43.4, 1.0833333333333321, 3.1833333333333336, 0.0, 1.25, 0.9166666666666679, 14.416666666666668, 6.5166666666666675, 0.2666666666666657, 10.716666666666667, 98.0, 4.1, 7.649999999999999, 3.5, 43.31666666666666, 4.799999999999999, 4.666666666666666, 33.0, 0.0, 19.316666666666666, 46.28333333333333, 39.8, 5.9, 3.416666666666667, 17.25, 0.0, 247.83333333333334, 1.0, 38.88333333333333, 1.25, 0.9666666666666668, 0.0, 42.0, 16.133333333333333, 436.0, 28.71666666666667, 0.0, 0.40000000000000036, 40.2, 74.5, 0.0, 6.5, 6.583333333333334, 31.65, 13.316666666666665, 36.0, 39.96666666666667, 108.0, 2.416666666666666, 7.066666666666666, 3.0, 4.816666666666666, 15.666666666666668, 3.033333333333333, 627.25, 2.75, 635.75, 44.3, 12.25, 3.116666666666667, 1.0833333333333321, 25.0, 55.916666666666664, 14.75, 4.433333333333334, 1.3833333333333329, 34.35, 8.0, 44.05, 1.8499999999999996, 0.0, 7.75, 46.333333333333336, 2.2666666666666675, 159.5, 13.0, 423.6666666666667, 48.46666666666667, 4.183333333333334, 5.25, 61.38333333333333, 81.75, 31.333333333333332, 39.5, 29.0, 0.8666666666666671, 35.21666666666667, 67.26666666666668, 76.75, 75.78333333333333, 80.91666666666667, 3.4333333333333336, 0.0, 1.466666666666665, 0.0, 1.0, 2.416666666666668, 122.5, 5.183333333333334, 202.0, 305.0, 0.0, 50.766666666666666, 0.0, 1.0, 19.783333333333335, 472.31666666666666, 2.883333333333333, 24.25, 0.916666666666667, 10.149999999999999, 46.28333333333333, 18.183333333333334, 0.0, 5.833333333333334, 22.366666666666667, 38.4, 0.8999999999999999, 5.883333333333334, 1.25, 186.25, 8.0, 13.883333333333333, 36.43333333333334, 0.0, 139.76666666666665, 1.0, 4.933333333333332, 0.0, 1.5833333333333335, 37.3, 2.633333333333333, 12.416666666666668, 169.83333333333334, 42.41666666666667, 1.416666666666667, 1.9833333333333325, 0.0, 3.75, 53.41666666666667, 4.583333333333334, 48.0, 207.56666666666666, 0.7166666666666677, 7.550000000000001, 637.4, 58.516666666666666, 0.04999999999999982, 117.83333333333333, 19.95, 0.583333333333333, 21.433333333333334, 0.6166666666666671, 0.0, 26.033333333333335, 3.450000000000001, 1.15, 102.51666666666667, 2.616666666666667, 63.916666666666664, 0.8833333333333329, 0.75, 11.433333333333334, 68.65, 0.0, 15.6, 67.55, 0.5833333333333339, 8.616666666666665, 2.5, 4.433333333333334, 45.16666666666667, 19.683333333333334, 0.0, 0.75, 55.16666666666667, 0.0, 40.016666666666666, 28.933333333333334, 400.8333333333333, 38.916666666666664, 2.8, 1.1, 0.6833333333333336, 5.0, 11.466666666666667, 2.1833333333333336, 0.0, 65.75, 40.0, 447.08333333333337, 1.8166666666666664, 34.6, 55.46666666666667, 7.666666666666667, 41.8, 1.7, 6.5, 22.816666666666666, 0.5, 39.599999999999994, 1.5166666666666657, 1.666666666666666, 19.666666666666668, 8.366666666666667, 37.083333333333336, 0.9499999999999993, 4.749999999999998, 0.0, 1.1166666666666667, 0.1333333333333333, 0.0, 67.0, 6.533333333333333, 13.3, 3.0, 13.483333333333333, 92.08333333333333, 41.2, 72.28333333333333, 1.5833333333333321, 2.966666666666667, 15.333333333333332, 224.61666666666667, 5.3999999999999995, 0.8333333333333339, 0.7666666666666657, 5.5, 0.0, 4.7666666666666675, 4.383333333333333, 3.9833333333333343, 54.05, 5.4, 2.1, 43.38333333333333, 40.25, 40.650000000000006, 2.7666666666666675, 0.43333333333333357, 6.266666666666666, 2.116666666666667, 100.05, 23.366666666666667, 0.11666666666666714, 0.4833333333333334, 166.1, 21.816666666666666, 0.6833333333333318, 20.733333333333334, 4.833333333333333, 1.9833333333333343, 36.96666666666667, 7.866666666666666, 35.8, 8.566666666666666, 7.149999999999999, 0.0, 0.21666666666666679, 0.8666666666666671, 4.516666666666667, 8.95, 25.183333333333334, 6.199999999999999, 0.0, 115.85, 2.8499999999999996, 4.1, 159.36666666666665, 24.4, 4.583333333333332, 3.083333333333332, 0.43333333333333357, 9.333333333333332, 1.9833333333333343, 0.7666666666666666, 0.0, 6.783333333333333, 36.38333333333333, 9.616666666666667, 31.96666666666667, 43.983333333333334, 10.149999999999999, 5.683333333333334, 0.0, 0.16666666666666785, 16.0, 26.266666666666666, 2.8499999999999996, 12.05, 9.75, 3.9499999999999993, 88.26666666666667, 0.0, 7.233333333333333, 3.3500000000000014, 30.71666666666667, 52.400000000000006, 95.41666666666666, 1.1166666666666671, 37.11666666666667, 2.833333333333333, 9.0, 0.20000000000000018, 114.19999999999999, 18.133333333333333, 47.3, 3.5166666666666657, 36.25, 3.666666666666666, 29.78333333333333, 0.0, 0.0, 6.783333333333335, 3.25, 0.8000000000000003, 0.38333333333333286, 11.649999999999999, 33.65, 137.75, 3.0166666666666666, 3.3499999999999996, 29.833333333333336, 116.21666666666667, 2.299999999999999, 1.5, 2.866666666666667, 22.116666666666667, 28.03333333333333, 0.7666666666666657, 36.416666666666664, 3.749999999999999, 0.19999999999999996, 0.6999999999999993, 24.2, 341.53333333333336, 27.4, 45.88333333333333, 0.283333333333335, 0.4166666666666665, 0.36666666666666625, 56.78333333333333, 19.5, 0.3166666666666667, 0.26666666666666683, 5.283333333333333, 35.7, 58.65, 0.13333333333333286, 9.116666666666669, 8.0, 0.0, 332.23333333333335, 42.56666666666666, 1.0166666666666657, 1.0166666666666657, 74.88333333333333, 16.966666666666665, 43.166666666666664, 425.5, 54.95, 725.0, 45.3, 4.0166666666666675, 1.7833333333333314, 42.733333333333334, 3.166666666666666, 82.26666666666667, 45.16666666666667, 0.16666666666666652, 7.750000000000002, 40.9, 66.93333333333334, 10.083333333333336, 68.01666666666667, 0.7333333333333325, 0.16666666666666607, 6.9, 0.7000000000000002, 52.03333333333333, 6.366666666666667, 44.38333333333333, 51.766666666666666, 1.7166666666666668, 39.28333333333333, 7.733333333333334, 6.9, 0.0, 69.81666666666666, 2.466666666666667, 5.15, 2.25, 1.8499999999999979, 19.383333333333333, 0.5500000000000007, 5.9833333333333325, 259.15, 42.31666666666666, 8.733333333333333, 0.06666666666666643, 324.06666666666666, 1.5666666666666664, 43.16666666666667, 29.783333333333335, 0.0, 191.93333333333334, 0.0, 4.433333333333332, 46.7, 231.13333333333333, 42.96666666666667, 0.2333333333333334, 0.9500000000000028, 166.56666666666666, 40.3, 1.8333333333333321, 18.516666666666666, 12.633333333333333, 182.35, 190.61666666666667, 165.6, 39.233333333333334, 2.2666666666666675, 6.216666666666669, 0.04999999999999716, 24.183333333333334, 62.21666666666667, 3.916666666666666, 13.533333333333331, 0.0, 1.65, 36.25, 38.4, 34.733333333333334, 9.716666666666667, 70.55000000000001, 0.25, 1.9499999999999993, 41.016666666666666, 1.7833333333333332, 53.900000000000006, 1.283333333333335, 2.1166666666666667, 35.766666666666666, 160.05, 7.5, 224.75, 0.283333333333335, 4.249999999999999, 0.9166666666666679, 1.583333333333334, 2.8499999999999996, 173.0, 0.016666666666669272, 24.833333333333336, 692.0, 85.06666666666666, 17.683333333333334, 44.583333333333336, 44.43333333333334, 0.833333333333333, 0.75, 20.43333333333333, 13.183333333333332, 3.25, 455.3, 0.0, 122.76666666666665, 29.666666666666668, 376.81666666666666, 257.08333333333337, 0.21666666666666856, 88.16666666666667, 1.2833333333333332, 109.58333333333333, 160.45, 35.9, 80.55, 4.466666666666669, 0.11666666666666536, 39.38333333333333, 14.649999999999999, 3.466666666666667, 5.949999999999999, 98.86666666666667, 5.9833333333333325, 2.3999999999999986, 3.5, 45.016666666666666, 0.0, 2.1500000000000004, 3.0166666666666675, 12.683333333333334, 2.75, 58.55, 0.41666666666666696, 41.78333333333333, 46.63333333333333, 121.05000000000001, 0.0, 14.100000000000001, 1.3166666666666664, 44.0, 99.45, 0.1999999999999993, 23.75, 0.6166666666666671, 9.483333333333333, 0.9833333333333325, 2.9333333333333336, 2.3000000000000007, 0.5, 1.1333333333333329, 41.733333333333334, 46.18333333333334, 22.8, 9.666666666666666, 3.583333333333334, 31.799999999999997, 3.866666666666667, 3.549999999999999, 27.583333333333336, 108.5, 0.0, 29.583333333333332, 2.3333333333333357, 0.8000000000000003, 4.166666666666668, 0.0, 142.86666666666667, 37.35, 94.35, 2.25, 0.9666666666666668, 0.0, 269.95, 1.950000000000001, 0.5499999999999999, 29.166666666666668, 46.766666666666666, 65.73333333333333, 56.166666666666664, 3.7833333333333314, 40.63333333333333, 5.716666666666669, 0.6999999999999993, 0.5833333333333335, 1.4499999999999993, 340.5, 140.43333333333334, 0.25, 0.0, 0.8833333333333329, 47.0, 0.8833333333333329, 54.666666666666664, 3.533333333333333, 243.61666666666667, 40.75, 1.3499999999999996, 5.250000000000002, 0.466666666666665, 44.083333333333336, 0.0, 3.283333333333333, 2.5500000000000007, 0.016666666666669272, 1.75, 6.283333333333334, 10.416666666666666, 4.183333333333334, 1.5833333333333357, 127.61666666666667, 1.6833333333333336, 1.3666666666666671, 3.7333333333333325, 64.98333333333333, 35.21666666666667, 117.0, 0.3500000000000001, 0.34999999999999987, 0.4, 197.73333333333335, 4.5, 43.8, 74.3, 0.0833333333333357, 1.65, 25.916666666666664, 14.0, 327.7833333333333, 2.166666666666668, 0.0, 0.0, 16.65, 0.29999999999999893, 47.36666666666667, 40.58333333333333, 1.5166666666666693, 152.95, 34.81666666666667, 1.8833333333333364, 99.3, 4.699999999999999, 44.5, 14.450000000000001, 6.1, 101.38333333333334, 100.58333333333333]\n",
            "1109\n",
            "[0.0, 6.916666666666666, 40.86666666666667, 2.6833333333333336, 35.333333333333336, 3.666666666666667, 0.0, 0.0, 0.0, 0.4166666666666661, 12.983333333333334, 1.0, 0.0, 19.583333333333336, 1.0833333333333321, 316.68333333333334, 4.916666666666666, 0.5, 63.0, 28.71666666666667, 6.25, 89.55, 29.683333333333334, 9.55, 2.9833333333333325, 76.55, 11.283333333333333, 148.13333333333333, 504.28333333333336, 81.2, 1.6666666666666665, 177.25, 8.75, 615.5833333333334, 34.15, 6.85, 11.666666666666668, 30.95, 1.5, 0.0, 31.75, 2.3166666666666664, 19.03333333333333, 1.583333333333333, 0.7166666666666668, 72.75, 3.166666666666666, 4.0, 3.6833333333333336, 6.933333333333334, 4.983333333333334, 128.0, 27.5, 1.216666666666665, 511.2, 3.333333333333334, 45.5, 0.0, 32.61666666666667, 167.25, 313.01666666666665, 4.25, 7.133333333333333, 33.45, 29.083333333333332, 0.43333333333333357, 27.75, 288.5, 6.783333333333335, 81.61666666666667, 45.0, 1.8833333333333333, 2.75, 0.0, 53.0, 0.34999999999999964, 34.75, 0.0, 39.016666666666666, 5.666666666666666, 5.933333333333334, 13.5, 33.0, 6.133333333333331, 222.5, 2.7666666666666675, 14.299999999999999, 233.01666666666665, 0.0, 28.483333333333334, 3.0500000000000007, 44.43333333333334, 1.6166666666666671, 37.65, 49.15, 537.1833333333333, 763.0, 0.4166666666666665, 0.0, 453.71666666666664, 1.0, 0.0, 0.0, 0.0, 18.166666666666668, 0.3333333333333339, 0.8166666666666669, 31.316666666666666, 0.0, 37.5, 8.75, 0.5, 6.033333333333333, 1.6499999999999986, 0.0, 2.6499999999999986, 0.34999999999999964, 0.0, 2.416666666666668, 5.433333333333334, 34.75, 1.0833333333333321, 0.0, 79.31666666666666, 7.9, 84.5, 116.83333333333333, 6.999999999999998, 0.0, 3.5, 6.75, 14.583333333333334, 0.0, 40.733333333333334, 1.5166666666666657, 80.23333333333333, 32.58333333333333, 1.25, 24.883333333333333, 31.21666666666667, 3.6666666666666643, 82.25, 0.6333333333333329, 72.75, 32.050000000000004, 33.75, 191.28333333333333, 5.0, 31.766666666666666, 6.25, 3.0, 18.866666666666667, 231.7, 46.03333333333333, 1.75, 3.3999999999999986, 98.5, 0.0, 25.066666666666666, 0.0, 0.0, 0.36666666666666536, 2.583333333333332, 0.0, 3.4333333333333336, 24.5, 36.916666666666664, 0.0, 35.166666666666664, 1.75, 1.0, 2.75, 6.350000000000001, 0.0, 0.9166666666666665, 4.300000000000001, 0.0, 2.8666666666666654, 11.466666666666665, 0.0, 30.53333333333333, 2.0, 0.0, 2.5, 153.68333333333334, 2.1166666666666663, 0.8666666666666671, 1.4333333333333336, 34.25, 58.0, 18.5, 2.0, 31.183333333333337, 34.5, 25.316666666666666, 1.0, 7.0, 38.7, 2.2333333333333325, 255.66666666666666, 25.55, 0.0, 0.0, 11.316666666666668, 4.066666666666666, 46.5, 0.0, 6.466666666666667, 38.0, 1.0, 3.5, 2.283333333333335, 1.0833333333333335, 4.25, 9.616666666666665, 0.5, 0.0, 48.88333333333333, 35.516666666666666, 0.0, 20.116666666666664, 27.233333333333334, 1.0, 27.166666666666668, 61.18333333333334, 132.31666666666666, 36.0, 28.816666666666666, 9.116666666666667, 123.61666666666667, 0.06666666666666687, 5.766666666666667, 183.61666666666667, 0.0, 0.6666666666666679, 20.366666666666667, 0.0, 0.0, 2.1833333333333336, 42.53333333333333, 21.766666666666666, 1.2999999999999998, 1.2833333333333332, 8.7, 36.0, 0.0, 67.73333333333333, 0.9166666666666679, 3.5166666666666666, 85.91666666666667, 5.516666666666666, 37.0, 21.5, 71.13333333333333, 94.0, 1.666666666666666, 6.733333333333334, 0.0, 0.9166666666666679, 10.583333333333334, 104.63333333333333, 7.0, 0.33333333333333215, 235.4, 8.483333333333334, 379.7, 357.5833333333333, 10.75, 2.5, 1.5, 38.91666666666667, 105.5, 0.0, 40.266666666666666, 3.866666666666667, 38.35, 4.25, 0.0, 5.75, 2.5, 14.483333333333333, 521.2, 40.0, 3.5999999999999996, 104.28333333333333, 4.1, 78.66666666666666, 174.9, 0.0, 1.0, 1.6833333333333336, 2.249999999999999, 21.25, 44.983333333333334, 135.58333333333331, 2.966666666666665, 1.5333333333333332, 6.9, 62.4, 6.149999999999999, 2.0, 3.7666666666666666, 70.21666666666667, 19.65, 1.4333333333333336, 19.0, 4.516666666666666, 43.08333333333333, 326.0, 9.0, 391.0, 3.5, 3.1, 51.08333333333333, 64.18333333333334, 5.616666666666667, 1.333333333333334, 7.800000000000001, 0.0, 0.0, 44.016666666666666, 71.66666666666667, 0.0, 26.116666666666667, 1.0, 674.2166666666667, 7.0, 26.75, 72.15, 55.61666666666666, 280.91666666666663, 220.0, 26.5, 133.35, 1.8666666666666671, 2.5666666666666664, 0.0, 0.0, 2.0, 25.133333333333333, 8.366666666666665, 0.9499999999999993, 0.966666666666665, 34.75, 33.7, 22.466666666666665, 0.0, 43.7, 2.0, 0.0, 9.616666666666667, 42.75, 0.0, 1.8666666666666671, 0.0, 32.266666666666666, 239.25, 0.0, 9.666666666666666, 0.6000000000000014, 10.0, 30.53333333333333, 3.6999999999999993, 1.25, 12.9, 60.25, 41.5, 6.916666666666667, 66.66666666666667, 8.200000000000001, 25.766666666666666, 0.033333333333333215, 6.0166666666666675, 40.0, 141.0, 12.566666666666666, 279.75, 303.3666666666667, 4.0, 0.0, 1.0, 229.0, 559.0, 6.983333333333333, 42.516666666666666, 43.9, 225.03333333333333, 9.116666666666667, 0.0, 903.0, 32.63333333333333, 101.03333333333333, 2.533333333333333, 11.25, 19.0, 7.25, 11.566666666666666, 0.0, 2.2333333333333334, 0.0, 456.0, 339.55, 148.0, 1.1, 20.25, 7.5, 42.5, 3.45, 6.0, 35.58333333333333, 1.9833333333333325, 7.783333333333333, 98.58333333333333, 0.0, 1.0833333333333321, 45.733333333333334, 0.9000000000000004, 2.1833333333333336, 847.9833333333333, 6.350000000000001, 1327.75, 325.76666666666665, 309.23333333333335, 0.0, 7.4833333333333325, 42.016666666666666, 9.45, 1.9833333333333343, 0.0, 5.200000000000001, 32.28333333333333, 46.0, 75.36666666666667, 9.100000000000001, 185.81666666666666, 35.88333333333333, 48.5, 125.33333333333333, 0.0, 24.916666666666664, 1.0, 86.58333333333333, 2.633333333333333, 3.6166666666666654, 51.15, 9.416666666666666, 73.0, 9.850000000000001, 0.0, 0.0, 0.0, 38.71666666666667, 0.5, 0.0, 140.66666666666669, 13.483333333333333, 24.0, 8.950000000000001, 46.91666666666667, 25.516666666666666, 2.0, 3.666666666666667, 0.2999999999999998, 17.3, 0.0, 867.2666666666667, 2.4333333333333336, 0.0, 43.78333333333333, 1.1833333333333336, 19.0, 35.5, 57.95, 1.0, 24.35, 33.75, 1.0, 0.0, 32.65, 6.816666666666666, 38.5, 5.233333333333333, 87.08333333333333, 1.0, 0.0, 15.666666666666668, 1.0666666666666664, 2.6999999999999993, 32.85, 8.283333333333333, 89.46666666666667, 69.8, 1.0, 32.03333333333333, 9.5, 1.0166666666666657, 2.616666666666667, 64.0, 42.96666666666667, 0.0, 43.4, 1.0833333333333321, 3.1833333333333336, 0.0, 1.25, 0.9166666666666679, 14.416666666666668, 6.5166666666666675, 0.2666666666666657, 10.716666666666667, 98.0, 4.1, 7.649999999999999, 3.5, 43.31666666666666, 4.799999999999999, 4.666666666666666, 33.0, 0.0, 19.316666666666666, 46.28333333333333, 39.8, 5.9, 3.416666666666667, 17.25, 0.0, 247.83333333333334, 1.0, 38.88333333333333, 1.25, 0.9666666666666668, 0.0, 42.0, 16.133333333333333, 436.0, 28.71666666666667, 0.0, 0.40000000000000036, 40.2, 74.5, 0.0, 6.5, 6.583333333333334, 31.65, 13.316666666666665, 36.0, 39.96666666666667, 108.0, 2.416666666666666, 7.066666666666666, 3.0, 4.816666666666666, 15.666666666666668, 3.033333333333333, 627.25, 2.75, 635.75, 44.3, 12.25, 3.116666666666667, 1.0833333333333321, 25.0, 55.916666666666664, 14.75, 4.433333333333334, 1.3833333333333329, 34.35, 8.0, 44.05, 1.8499999999999996, 0.0, 7.75, 46.333333333333336, 2.2666666666666675, 159.5, 13.0, 423.6666666666667, 48.46666666666667, 4.183333333333334, 5.25, 61.38333333333333, 81.75, 31.333333333333332, 39.5, 29.0, 0.8666666666666671, 35.21666666666667, 67.26666666666668, 76.75, 75.78333333333333, 80.91666666666667, 3.4333333333333336, 0.0, 1.466666666666665, 0.0, 1.0, 2.416666666666668, 122.5, 5.183333333333334, 202.0, 305.0, 0.0, 50.766666666666666, 0.0, 1.0, 19.783333333333335, 472.31666666666666, 2.883333333333333, 24.25, 0.916666666666667, 10.149999999999999, 46.28333333333333, 18.183333333333334, 0.0, 5.833333333333334, 22.366666666666667, 38.4, 0.8999999999999999, 5.883333333333334, 1.25, 186.25, 8.0, 13.883333333333333, 36.43333333333334, 0.0, 139.76666666666665, 1.0, 4.933333333333332, 0.0, 1.5833333333333335, 37.3, 2.633333333333333, 12.416666666666668, 169.83333333333334, 42.41666666666667, 1.416666666666667, 1.9833333333333325, 0.0, 3.75, 53.41666666666667, 4.583333333333334, 48.0, 207.56666666666666, 0.7166666666666677, 7.550000000000001, 637.4, 58.516666666666666, 0.04999999999999982, 117.83333333333333, 19.95, 0.583333333333333, 21.433333333333334, 0.6166666666666671, 0.0, 26.033333333333335, 3.450000000000001, 1.15, 102.51666666666667, 2.616666666666667, 63.916666666666664, 0.8833333333333329, 0.75, 11.433333333333334, 68.65, 0.0, 15.6, 67.55, 0.5833333333333339, 8.616666666666665, 2.5, 4.433333333333334, 45.16666666666667, 19.683333333333334, 0.0, 0.75, 55.16666666666667, 0.0, 40.016666666666666, 28.933333333333334, 400.8333333333333, 38.916666666666664, 2.8, 1.1, 0.6833333333333336, 5.0, 11.466666666666667, 2.1833333333333336, 0.0, 65.75, 40.0, 447.08333333333337, 1.8166666666666664, 34.6, 55.46666666666667, 7.666666666666667, 41.8, 1.7, 6.5, 22.816666666666666, 0.5, 39.599999999999994, 1.5166666666666657, 1.666666666666666, 19.666666666666668, 8.366666666666667, 37.083333333333336, 0.9499999999999993, 4.749999999999998, 0.0, 1.1166666666666667, 0.1333333333333333, 0.0, 67.0, 6.533333333333333, 13.3, 3.0, 13.483333333333333, 92.08333333333333, 41.2, 72.28333333333333, 1.5833333333333321, 2.966666666666667, 15.333333333333332, 224.61666666666667, 5.3999999999999995, 0.8333333333333339, 0.7666666666666657, 5.5, 0.0, 4.7666666666666675, 4.383333333333333, 3.9833333333333343, 54.05, 5.4, 2.1, 43.38333333333333, 40.25, 40.650000000000006, 2.7666666666666675, 0.43333333333333357, 6.266666666666666, 2.116666666666667, 100.05, 23.366666666666667, 0.11666666666666714, 0.4833333333333334, 166.1, 21.816666666666666, 0.6833333333333318, 20.733333333333334, 4.833333333333333, 1.9833333333333343, 36.96666666666667, 7.866666666666666, 35.8, 8.566666666666666, 7.149999999999999, 0.0, 0.21666666666666679, 0.8666666666666671, 4.516666666666667, 8.95, 25.183333333333334, 6.199999999999999, 0.0, 115.85, 2.8499999999999996, 4.1, 159.36666666666665, 24.4, 4.583333333333332, 3.083333333333332, 0.43333333333333357, 9.333333333333332, 1.9833333333333343, 0.7666666666666666, 0.0, 6.783333333333333, 36.38333333333333, 9.616666666666667, 31.96666666666667, 43.983333333333334, 10.149999999999999, 5.683333333333334, 0.0, 0.16666666666666785, 16.0, 26.266666666666666, 2.8499999999999996, 12.05, 9.75, 3.9499999999999993, 88.26666666666667, 0.0, 7.233333333333333, 3.3500000000000014, 30.71666666666667, 52.400000000000006, 95.41666666666666, 1.1166666666666671, 37.11666666666667, 2.833333333333333, 9.0, 0.20000000000000018, 114.19999999999999, 18.133333333333333, 47.3, 3.5166666666666657, 36.25, 3.666666666666666, 29.78333333333333, 0.0, 0.0, 6.783333333333335, 3.25, 0.8000000000000003, 0.38333333333333286, 11.649999999999999, 33.65, 137.75, 3.0166666666666666, 3.3499999999999996, 29.833333333333336, 116.21666666666667, 2.299999999999999, 1.5, 2.866666666666667, 22.116666666666667, 28.03333333333333, 0.7666666666666657, 36.416666666666664, 3.749999999999999, 0.19999999999999996, 0.6999999999999993, 24.2, 341.53333333333336, 27.4, 45.88333333333333, 0.283333333333335, 0.4166666666666665, 0.36666666666666625, 56.78333333333333, 19.5, 0.3166666666666667, 0.26666666666666683, 5.283333333333333, 35.7, 58.65, 0.13333333333333286, 9.116666666666669, 8.0, 0.0, 332.23333333333335, 42.56666666666666, 1.0166666666666657, 1.0166666666666657, 74.88333333333333, 16.966666666666665, 43.166666666666664, 425.5, 54.95, 725.0, 45.3, 4.0166666666666675, 1.7833333333333314, 42.733333333333334, 3.166666666666666, 82.26666666666667, 45.16666666666667, 0.16666666666666652, 7.750000000000002, 40.9, 66.93333333333334, 10.083333333333336, 68.01666666666667, 0.7333333333333325, 0.16666666666666607, 6.9, 0.7000000000000002, 52.03333333333333, 6.366666666666667, 44.38333333333333, 51.766666666666666, 1.7166666666666668, 39.28333333333333, 7.733333333333334, 6.9, 0.0, 69.81666666666666, 2.466666666666667, 5.15, 2.25, 1.8499999999999979, 19.383333333333333, 0.5500000000000007, 5.9833333333333325, 259.15, 42.31666666666666, 8.733333333333333, 0.06666666666666643, 324.06666666666666, 1.5666666666666664, 43.16666666666667, 29.783333333333335, 0.0, 191.93333333333334, 0.0, 4.433333333333332, 46.7, 231.13333333333333, 42.96666666666667, 0.2333333333333334, 0.9500000000000028, 166.56666666666666, 40.3, 1.8333333333333321, 18.516666666666666, 12.633333333333333, 182.35, 190.61666666666667, 165.6, 39.233333333333334, 2.2666666666666675, 6.216666666666669, 0.04999999999999716, 24.183333333333334, 62.21666666666667, 3.916666666666666, 13.533333333333331, 0.0, 1.65, 36.25, 38.4, 34.733333333333334, 9.716666666666667, 70.55000000000001, 0.25, 1.9499999999999993, 41.016666666666666, 1.7833333333333332, 53.900000000000006, 1.283333333333335, 2.1166666666666667, 35.766666666666666, 160.05, 7.5, 224.75, 0.283333333333335, 4.249999999999999, 0.9166666666666679, 1.583333333333334, 2.8499999999999996, 173.0, 0.016666666666669272, 24.833333333333336, 692.0, 85.06666666666666, 17.683333333333334, 44.583333333333336, 44.43333333333334, 0.833333333333333, 0.75, 20.43333333333333, 13.183333333333332, 3.25, 455.3, 0.0, 122.76666666666665, 29.666666666666668, 376.81666666666666, 257.08333333333337, 0.21666666666666856, 88.16666666666667, 1.2833333333333332, 109.58333333333333, 160.45, 35.9, 80.55, 4.466666666666669, 0.11666666666666536, 39.38333333333333, 14.649999999999999, 3.466666666666667, 5.949999999999999, 98.86666666666667, 5.9833333333333325, 2.3999999999999986, 3.5, 45.016666666666666, 0.0, 2.1500000000000004, 3.0166666666666675, 12.683333333333334, 2.75, 58.55, 0.41666666666666696, 41.78333333333333, 46.63333333333333, 121.05000000000001, 0.0, 14.100000000000001, 1.3166666666666664, 44.0, 99.45, 0.1999999999999993, 23.75, 0.6166666666666671, 9.483333333333333, 0.9833333333333325, 2.9333333333333336, 2.3000000000000007, 0.5, 1.1333333333333329, 41.733333333333334, 46.18333333333334, 22.8, 9.666666666666666, 3.583333333333334, 31.799999999999997, 3.866666666666667, 3.549999999999999, 27.583333333333336, 108.5, 0.0, 29.583333333333332, 2.3333333333333357, 0.8000000000000003, 4.166666666666668, 0.0, 142.86666666666667, 37.35, 94.35, 2.25, 0.9666666666666668, 0.0, 269.95, 1.950000000000001, 0.5499999999999999, 29.166666666666668, 46.766666666666666, 65.73333333333333, 56.166666666666664, 3.7833333333333314, 40.63333333333333, 5.716666666666669, 0.6999999999999993, 0.5833333333333335, 1.4499999999999993, 340.5, 140.43333333333334, 0.25, 0.0, 0.8833333333333329, 47.0, 0.8833333333333329, 54.666666666666664, 3.533333333333333, 243.61666666666667, 40.75, 1.3499999999999996, 5.250000000000002, 0.466666666666665, 44.083333333333336, 0.0, 3.283333333333333, 2.5500000000000007, 0.016666666666669272, 1.75, 6.283333333333334, 10.416666666666666, 4.183333333333334, 1.5833333333333357, 127.61666666666667, 1.6833333333333336, 1.3666666666666671, 3.7333333333333325, 64.98333333333333, 35.21666666666667, 117.0, 0.3500000000000001, 0.34999999999999987, 0.4, 197.73333333333335, 4.5, 43.8, 74.3, 0.0833333333333357, 1.65, 25.916666666666664, 14.0, 327.7833333333333, 2.166666666666668, 0.0, 0.0, 16.65, 0.29999999999999893, 47.36666666666667, 40.58333333333333, 1.5166666666666693, 152.95, 34.81666666666667, 1.8833333333333364, 99.3, 4.699999999999999, 44.5, 14.450000000000001, 6.1, 101.38333333333334, 100.58333333333333, 0, 0, 0, 0, 0]\n",
            "1114\n"
          ],
          "name": "stdout"
        }
      ]
    },
    {
      "cell_type": "code",
      "metadata": {
        "id": "jWWWhxxMZbH4",
        "colab_type": "code",
        "outputId": "586aaa66-225b-45e4-afbb-ab426c0d6fbf",
        "colab": {
          "base_uri": "https://localhost:8080/",
          "height": 34
        }
      },
      "source": [
        "count = 0\n",
        "for i in tdiff:\n",
        "  if i == 0:\n",
        "    count += 1\n",
        "print(count)    "
      ],
      "execution_count": 0,
      "outputs": [
        {
          "output_type": "stream",
          "text": [
            "119\n"
          ],
          "name": "stdout"
        }
      ]
    },
    {
      "cell_type": "code",
      "metadata": {
        "id": "SkHVCP6yv9TH",
        "colab_type": "code",
        "outputId": "bf04a434-087e-40dc-f9b9-845e588889b3",
        "colab": {
          "base_uri": "https://localhost:8080/",
          "height": 334
        }
      },
      "source": [
        "import statistics\n",
        "med = statistics.median(tdiff)\n",
        "print('The median is at %0.2f hours' %med)\n",
        "plt.hist(tdiff)\n",
        "plt.axvline(x = med, color = 'r', label = 'median = %0.2f hours' %med)\n",
        "plt.xlabel('Early Warning Time (hours)')\n",
        "plt.ylabel('Frequency')\n",
        "plt.legend(loc = 'lower right')\n",
        "\n",
        "abv48 = 0\n",
        "for num in range(len(tdiff)):\n",
        "  if tdiff[num] > 48:\n",
        "    abv48 += 1\n",
        "print('The ratio of patients with EWTs above 48 hours is %0.2f' %(abv48/len(tdiff)))\n",
        "print('The ratio of patients with EWTs of 0 hours is %0.2f'%(count/len(tdiff)))"
      ],
      "execution_count": 0,
      "outputs": [
        {
          "output_type": "stream",
          "text": [
            "The median is at 7.74 hours\n",
            "The ratio of patients with EWTs above 48 hours is 0.19\n",
            "The ratio of patients with EWTs of 0 hours is 0.11\n"
          ],
          "name": "stdout"
        },
        {
          "output_type": "display_data",
          "data": {
            "image/png": "[encoded data removed]",
            "text/plain": [
              "<Figure size 432x288 with 1 Axes>"
            ]
          },
          "metadata": {
            "tags": []
          }
        }
      ]
    },
    {
      "cell_type": "markdown",
      "metadata": {
        "id": "FLIt9gBIsoHh",
        "colab_type": "text"
      },
      "source": [
        "f) [20 points] Write a short 2 to 3 pages report using the provided templates where\n",
        "you introduce the problem, describe the training procedure and methodology\n",
        "used, as well as a description of the obtained results. We will be evaluating your\n",
        "clarity in exposition and presentation of the research problem."
      ]
    },
    {
      "cell_type": "markdown",
      "metadata": {
        "id": "hhrJNuQossiK",
        "colab_type": "text"
      },
      "source": [
        "g) [10 points] (Optional) Repeat the training and estimation procedure using data\n",
        "balancing and compare the results."
      ]
    },
    {
      "cell_type": "code",
      "metadata": {
        "id": "3U1RpaVvrm5i",
        "colab_type": "code",
        "outputId": "d0410c8f-fb1f-4029-b000-4d996eb70ed7",
        "colab": {
          "base_uri": "https://localhost:8080/",
          "height": 357
        }
      },
      "source": [
        "coefficients=model.coef_\n",
        "names=list(testing.columns.values) \n",
        "names.remove('Unnamed: 0')\n",
        "names.remove('patient')\n",
        "names.remove('y')\n",
        "names.remove('predy')\n",
        "names.remove('timestamps')\n",
        "\n",
        "coefficients1=np.asarray(coefficients).squeeze()\n",
        "names1=np.asarray(names)\n",
        "print(len(names))\n",
        "print(np.shape(coefficients1))\n",
        "zero_in_list=[i for i,x in enumerate(coefficients1) if abs(x)<0.2] \n",
        "names\n",
        "\n",
        "coefficients1=np.delete(coefficients1, zero_in_list)\n",
        "names1=np.delete(names1, zero_in_list)\n",
        "coefficients_exp=np.exp(coefficients1)\n",
        "\n",
        "plt.bar(names1, coefficients_exp, align='center', alpha=0.5)\n",
        "plt.xticks(names1,rotation=270)\n",
        "plt.ylabel('Exponentiated Coefficients')\n",
        "plt.show()"
      ],
      "execution_count": 0,
      "outputs": [
        {
          "output_type": "stream",
          "text": [
            "28\n",
            "(28,)\n"
          ],
          "name": "stdout"
        },
        {
          "output_type": "display_data",
          "data": {
            "image/png": "[encoded data removed]",
            "text/plain": [
              "<Figure size 432x288 with 1 Axes>"
            ]
          },
          "metadata": {
            "tags": []
          }
        }
      ]
    },
    {
      "cell_type": "code",
      "metadata": {
        "id": "GQlmhKl1PL4u",
        "colab_type": "code",
        "outputId": "085085bb-5022-4cc5-e10d-6e5bb033a062",
        "colab": {
          "base_uri": "https://localhost:8080/",
          "height": 119
        }
      },
      "source": [
        "print(coefficients_exp)\n",
        "print(names1)\n",
        "print(model.intercept_)"
      ],
      "execution_count": 0,
      "outputs": [
        {
          "output_type": "stream",
          "text": [
            "[1.56089164 0.08211133 1.48957393 1.1728034  1.19455207 0.10845833\n",
            " 5.82657839 0.87750138 0.59330067 1.40650503 0.14898198 4.19249238\n",
            " 1.18047114 1.10858153]\n",
            "['hr' 'sbp' 'resp' 'pao2' 'fio2' 'gcs' 'lactate' 'paco2' 'urine'\n",
            " 'resp.sofa' 'nervous.sofa' 'cardio.sofa' 'liver.sofa' 'kidney.sofa']\n",
            "[-1.42781584]\n"
          ],
          "name": "stdout"
        }
      ]
    }
  ]
}